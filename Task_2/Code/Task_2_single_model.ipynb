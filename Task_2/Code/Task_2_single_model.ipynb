{
  "metadata": {
    "kernelspec": {
      "name": "python3",
      "display_name": "Python 3",
      "language": "python"
    },
    "language_info": {
      "name": "python",
      "version": "3.10.12",
      "mimetype": "text/x-python",
      "codemirror_mode": {
        "name": "ipython",
        "version": 3
      },
      "pygments_lexer": "ipython3",
      "nbconvert_exporter": "python",
      "file_extension": ".py"
    },
    "colab": {
      "provenance": [],
      "gpuType": "T4"
    },
    "accelerator": "GPU",
    "kaggle": {
      "accelerator": "nvidiaTeslaT4",
      "dataSources": [
        {
          "sourceId": 10399957,
          "sourceType": "datasetVersion",
          "datasetId": 6443852
        },
        {
          "sourceId": 10401145,
          "sourceType": "datasetVersion",
          "datasetId": 6444772
        },
        {
          "sourceId": 10419045,
          "sourceType": "datasetVersion",
          "datasetId": 6457498
        }
      ],
      "dockerImageVersionId": 30823,
      "isInternetEnabled": true,
      "language": "python",
      "sourceType": "notebook",
      "isGpuEnabled": true
    }
  },
  "nbformat_minor": 0,
  "nbformat": 4,
  "cells": [
    {
      "cell_type": "markdown",
      "source": [
        "# 2. Setting up the enviroment"
      ],
      "metadata": {
        "id": "mh7dFCORL0eR"
      }
    },
    {
      "cell_type": "code",
      "source": [
        "# Tabjular Data Analysis\n",
        "import numpy as np\n",
        "import pandas as pd\n",
        "\n",
        "# Visualization\n",
        "import matplotlib.pyplot as plt\n",
        "import seaborn as sns\n",
        "\n",
        "# Utility\n",
        "import time\n",
        "import warnings\n",
        "warnings.filterwarnings('ignore')"
      ],
      "metadata": {
        "id": "1dWgrRIOL1fp",
        "trusted": true,
        "execution": {
          "iopub.status.busy": "2025-01-10T08:29:30.839130Z",
          "iopub.execute_input": "2025-01-10T08:29:30.839502Z",
          "iopub.status.idle": "2025-01-10T08:29:30.844230Z",
          "shell.execute_reply.started": "2025-01-10T08:29:30.839468Z",
          "shell.execute_reply": "2025-01-10T08:29:30.843161Z"
        }
      },
      "outputs": [],
      "execution_count": 76
    },
    {
      "cell_type": "markdown",
      "source": [
        "# 4. Load the dataset"
      ],
      "metadata": {
        "id": "k18aD2SaL40a"
      }
    },
    {
      "cell_type": "code",
      "source": [
        "all_df = pd.read_csv(\"/content/fake_news_classification_mal_train(3).csv\")\n",
        "all_df.head(3)"
      ],
      "metadata": {
        "colab": {
          "base_uri": "https://localhost:8080/",
          "height": 143
        },
        "id": "5vymL2NfL53g",
        "outputId": "620f789c-48e8-4fa3-e787-c4cb4fb77e78",
        "trusted": true,
        "execution": {
          "iopub.status.busy": "2025-01-10T08:29:30.845457Z",
          "iopub.execute_input": "2025-01-10T08:29:30.845690Z",
          "iopub.status.idle": "2025-01-10T08:29:30.883006Z",
          "shell.execute_reply.started": "2025-01-10T08:29:30.845669Z",
          "shell.execute_reply": "2025-01-10T08:29:30.882398Z"
        }
      },
      "outputs": [
        {
          "output_type": "execute_result",
          "data": {
            "text/plain": [
              "                 ID                                               News  \\\n",
              "0  FAKE_MAL_TR_0001  കേള്‍വി തകരാറുള്ള കുട്ടികള്‍ക്ക് നടത്തുന്ന സൗജ...   \n",
              "1  FAKE_MAL_TR_0002  ചന്ദ്രയാന് കേരള മുഖ്യമന്ത്രി പിണറായി വിജയൻ മാത...   \n",
              "2  FAKE_MAL_TR_0003  പിണറായി വിജയന്‍ സര്‍ക്കാര്‍ നിര്‍മിച്ച കേരളത്ത...   \n",
              "\n",
              "        Label  \n",
              "0  FALSE       \n",
              "1  FALSE       \n",
              "2  FALSE       "
            ],
            "text/html": [
              "\n",
              "  <div id=\"df-db81e9bd-7698-4bfb-b9fb-824899efa536\" class=\"colab-df-container\">\n",
              "    <div>\n",
              "<style scoped>\n",
              "    .dataframe tbody tr th:only-of-type {\n",
              "        vertical-align: middle;\n",
              "    }\n",
              "\n",
              "    .dataframe tbody tr th {\n",
              "        vertical-align: top;\n",
              "    }\n",
              "\n",
              "    .dataframe thead th {\n",
              "        text-align: right;\n",
              "    }\n",
              "</style>\n",
              "<table border=\"1\" class=\"dataframe\">\n",
              "  <thead>\n",
              "    <tr style=\"text-align: right;\">\n",
              "      <th></th>\n",
              "      <th>ID</th>\n",
              "      <th>News</th>\n",
              "      <th>Label</th>\n",
              "    </tr>\n",
              "  </thead>\n",
              "  <tbody>\n",
              "    <tr>\n",
              "      <th>0</th>\n",
              "      <td>FAKE_MAL_TR_0001</td>\n",
              "      <td>കേള്‍വി തകരാറുള്ള കുട്ടികള്‍ക്ക് നടത്തുന്ന സൗജ...</td>\n",
              "      <td>FALSE</td>\n",
              "    </tr>\n",
              "    <tr>\n",
              "      <th>1</th>\n",
              "      <td>FAKE_MAL_TR_0002</td>\n",
              "      <td>ചന്ദ്രയാന് കേരള മുഖ്യമന്ത്രി പിണറായി വിജയൻ മാത...</td>\n",
              "      <td>FALSE</td>\n",
              "    </tr>\n",
              "    <tr>\n",
              "      <th>2</th>\n",
              "      <td>FAKE_MAL_TR_0003</td>\n",
              "      <td>പിണറായി വിജയന്‍ സര്‍ക്കാര്‍ നിര്‍മിച്ച കേരളത്ത...</td>\n",
              "      <td>FALSE</td>\n",
              "    </tr>\n",
              "  </tbody>\n",
              "</table>\n",
              "</div>\n",
              "    <div class=\"colab-df-buttons\">\n",
              "\n",
              "  <div class=\"colab-df-container\">\n",
              "    <button class=\"colab-df-convert\" onclick=\"convertToInteractive('df-db81e9bd-7698-4bfb-b9fb-824899efa536')\"\n",
              "            title=\"Convert this dataframe to an interactive table.\"\n",
              "            style=\"display:none;\">\n",
              "\n",
              "  <svg xmlns=\"http://www.w3.org/2000/svg\" height=\"24px\" viewBox=\"0 -960 960 960\">\n",
              "    <path d=\"M120-120v-720h720v720H120Zm60-500h600v-160H180v160Zm220 220h160v-160H400v160Zm0 220h160v-160H400v160ZM180-400h160v-160H180v160Zm440 0h160v-160H620v160ZM180-180h160v-160H180v160Zm440 0h160v-160H620v160Z\"/>\n",
              "  </svg>\n",
              "    </button>\n",
              "\n",
              "  <style>\n",
              "    .colab-df-container {\n",
              "      display:flex;\n",
              "      gap: 12px;\n",
              "    }\n",
              "\n",
              "    .colab-df-convert {\n",
              "      background-color: #E8F0FE;\n",
              "      border: none;\n",
              "      border-radius: 50%;\n",
              "      cursor: pointer;\n",
              "      display: none;\n",
              "      fill: #1967D2;\n",
              "      height: 32px;\n",
              "      padding: 0 0 0 0;\n",
              "      width: 32px;\n",
              "    }\n",
              "\n",
              "    .colab-df-convert:hover {\n",
              "      background-color: #E2EBFA;\n",
              "      box-shadow: 0px 1px 2px rgba(60, 64, 67, 0.3), 0px 1px 3px 1px rgba(60, 64, 67, 0.15);\n",
              "      fill: #174EA6;\n",
              "    }\n",
              "\n",
              "    .colab-df-buttons div {\n",
              "      margin-bottom: 4px;\n",
              "    }\n",
              "\n",
              "    [theme=dark] .colab-df-convert {\n",
              "      background-color: #3B4455;\n",
              "      fill: #D2E3FC;\n",
              "    }\n",
              "\n",
              "    [theme=dark] .colab-df-convert:hover {\n",
              "      background-color: #434B5C;\n",
              "      box-shadow: 0px 1px 3px 1px rgba(0, 0, 0, 0.15);\n",
              "      filter: drop-shadow(0px 1px 2px rgba(0, 0, 0, 0.3));\n",
              "      fill: #FFFFFF;\n",
              "    }\n",
              "  </style>\n",
              "\n",
              "    <script>\n",
              "      const buttonEl =\n",
              "        document.querySelector('#df-db81e9bd-7698-4bfb-b9fb-824899efa536 button.colab-df-convert');\n",
              "      buttonEl.style.display =\n",
              "        google.colab.kernel.accessAllowed ? 'block' : 'none';\n",
              "\n",
              "      async function convertToInteractive(key) {\n",
              "        const element = document.querySelector('#df-db81e9bd-7698-4bfb-b9fb-824899efa536');\n",
              "        const dataTable =\n",
              "          await google.colab.kernel.invokeFunction('convertToInteractive',\n",
              "                                                    [key], {});\n",
              "        if (!dataTable) return;\n",
              "\n",
              "        const docLinkHtml = 'Like what you see? Visit the ' +\n",
              "          '<a target=\"_blank\" href=https://colab.research.google.com/notebooks/data_table.ipynb>data table notebook</a>'\n",
              "          + ' to learn more about interactive tables.';\n",
              "        element.innerHTML = '';\n",
              "        dataTable['output_type'] = 'display_data';\n",
              "        await google.colab.output.renderOutput(dataTable, element);\n",
              "        const docLink = document.createElement('div');\n",
              "        docLink.innerHTML = docLinkHtml;\n",
              "        element.appendChild(docLink);\n",
              "      }\n",
              "    </script>\n",
              "  </div>\n",
              "\n",
              "\n",
              "<div id=\"df-54ff7d56-24e1-4a3f-ae68-ce9fff1b5d87\">\n",
              "  <button class=\"colab-df-quickchart\" onclick=\"quickchart('df-54ff7d56-24e1-4a3f-ae68-ce9fff1b5d87')\"\n",
              "            title=\"Suggest charts\"\n",
              "            style=\"display:none;\">\n",
              "\n",
              "<svg xmlns=\"http://www.w3.org/2000/svg\" height=\"24px\"viewBox=\"0 0 24 24\"\n",
              "     width=\"24px\">\n",
              "    <g>\n",
              "        <path d=\"M19 3H5c-1.1 0-2 .9-2 2v14c0 1.1.9 2 2 2h14c1.1 0 2-.9 2-2V5c0-1.1-.9-2-2-2zM9 17H7v-7h2v7zm4 0h-2V7h2v10zm4 0h-2v-4h2v4z\"/>\n",
              "    </g>\n",
              "</svg>\n",
              "  </button>\n",
              "\n",
              "<style>\n",
              "  .colab-df-quickchart {\n",
              "      --bg-color: #E8F0FE;\n",
              "      --fill-color: #1967D2;\n",
              "      --hover-bg-color: #E2EBFA;\n",
              "      --hover-fill-color: #174EA6;\n",
              "      --disabled-fill-color: #AAA;\n",
              "      --disabled-bg-color: #DDD;\n",
              "  }\n",
              "\n",
              "  [theme=dark] .colab-df-quickchart {\n",
              "      --bg-color: #3B4455;\n",
              "      --fill-color: #D2E3FC;\n",
              "      --hover-bg-color: #434B5C;\n",
              "      --hover-fill-color: #FFFFFF;\n",
              "      --disabled-bg-color: #3B4455;\n",
              "      --disabled-fill-color: #666;\n",
              "  }\n",
              "\n",
              "  .colab-df-quickchart {\n",
              "    background-color: var(--bg-color);\n",
              "    border: none;\n",
              "    border-radius: 50%;\n",
              "    cursor: pointer;\n",
              "    display: none;\n",
              "    fill: var(--fill-color);\n",
              "    height: 32px;\n",
              "    padding: 0;\n",
              "    width: 32px;\n",
              "  }\n",
              "\n",
              "  .colab-df-quickchart:hover {\n",
              "    background-color: var(--hover-bg-color);\n",
              "    box-shadow: 0 1px 2px rgba(60, 64, 67, 0.3), 0 1px 3px 1px rgba(60, 64, 67, 0.15);\n",
              "    fill: var(--button-hover-fill-color);\n",
              "  }\n",
              "\n",
              "  .colab-df-quickchart-complete:disabled,\n",
              "  .colab-df-quickchart-complete:disabled:hover {\n",
              "    background-color: var(--disabled-bg-color);\n",
              "    fill: var(--disabled-fill-color);\n",
              "    box-shadow: none;\n",
              "  }\n",
              "\n",
              "  .colab-df-spinner {\n",
              "    border: 2px solid var(--fill-color);\n",
              "    border-color: transparent;\n",
              "    border-bottom-color: var(--fill-color);\n",
              "    animation:\n",
              "      spin 1s steps(1) infinite;\n",
              "  }\n",
              "\n",
              "  @keyframes spin {\n",
              "    0% {\n",
              "      border-color: transparent;\n",
              "      border-bottom-color: var(--fill-color);\n",
              "      border-left-color: var(--fill-color);\n",
              "    }\n",
              "    20% {\n",
              "      border-color: transparent;\n",
              "      border-left-color: var(--fill-color);\n",
              "      border-top-color: var(--fill-color);\n",
              "    }\n",
              "    30% {\n",
              "      border-color: transparent;\n",
              "      border-left-color: var(--fill-color);\n",
              "      border-top-color: var(--fill-color);\n",
              "      border-right-color: var(--fill-color);\n",
              "    }\n",
              "    40% {\n",
              "      border-color: transparent;\n",
              "      border-right-color: var(--fill-color);\n",
              "      border-top-color: var(--fill-color);\n",
              "    }\n",
              "    60% {\n",
              "      border-color: transparent;\n",
              "      border-right-color: var(--fill-color);\n",
              "    }\n",
              "    80% {\n",
              "      border-color: transparent;\n",
              "      border-right-color: var(--fill-color);\n",
              "      border-bottom-color: var(--fill-color);\n",
              "    }\n",
              "    90% {\n",
              "      border-color: transparent;\n",
              "      border-bottom-color: var(--fill-color);\n",
              "    }\n",
              "  }\n",
              "</style>\n",
              "\n",
              "  <script>\n",
              "    async function quickchart(key) {\n",
              "      const quickchartButtonEl =\n",
              "        document.querySelector('#' + key + ' button');\n",
              "      quickchartButtonEl.disabled = true;  // To prevent multiple clicks.\n",
              "      quickchartButtonEl.classList.add('colab-df-spinner');\n",
              "      try {\n",
              "        const charts = await google.colab.kernel.invokeFunction(\n",
              "            'suggestCharts', [key], {});\n",
              "      } catch (error) {\n",
              "        console.error('Error during call to suggestCharts:', error);\n",
              "      }\n",
              "      quickchartButtonEl.classList.remove('colab-df-spinner');\n",
              "      quickchartButtonEl.classList.add('colab-df-quickchart-complete');\n",
              "    }\n",
              "    (() => {\n",
              "      let quickchartButtonEl =\n",
              "        document.querySelector('#df-54ff7d56-24e1-4a3f-ae68-ce9fff1b5d87 button');\n",
              "      quickchartButtonEl.style.display =\n",
              "        google.colab.kernel.accessAllowed ? 'block' : 'none';\n",
              "    })();\n",
              "  </script>\n",
              "</div>\n",
              "\n",
              "    </div>\n",
              "  </div>\n"
            ],
            "application/vnd.google.colaboratory.intrinsic+json": {
              "type": "dataframe",
              "variable_name": "all_df",
              "summary": "{\n  \"name\": \"all_df\",\n  \"rows\": 1900,\n  \"fields\": [\n    {\n      \"column\": \"ID\",\n      \"properties\": {\n        \"dtype\": \"string\",\n        \"num_unique_values\": 1900,\n        \"samples\": [\n          \"FAKE_MAL_TR_1223\",\n          \"FAKE_MAL_TR_0112\",\n          \"FAKE_MAL_TR_0555\"\n        ],\n        \"semantic_type\": \"\",\n        \"description\": \"\"\n      }\n    },\n    {\n      \"column\": \"News\",\n      \"properties\": {\n        \"dtype\": \"string\",\n        \"num_unique_values\": 1882,\n        \"samples\": [\n          \"\\u0d06\\u0d2a\\u0d4d\\u0d2a\\u0d3f\\u0d7e \\u0d05\\u0d24\\u0d3f\\u0d28\\u0d4d\\u0d31\\u0d46 \\u0d0f\\u0d31\\u0d4d\\u0d31\\u0d35\\u0d41\\u0d02 \\u0d2a\\u0d41\\u0d24\\u0d3f\\u0d2f \\u0d38\\u0d4b\\u0d2b\\u0d4d\\u0d31\\u0d4d\\u0d31\\u0d4d\\u0d35\\u0d46\\u0d2f\\u0d7c \\u0d05\\u0d2a\\u0d4d\\u0d21\\u0d47\\u0d31\\u0d4d\\u0d31\\u0d3f\\u0d7d \\u0d10\\u0d2b\\u0d4b\\u0d23\\u0d41\\u0d15\\u0d33\\u0d3f\\u0d32\\u0d46 \\u0d05\\u0d1f\\u0d3f\\u0d2f\\u0d28\\u0d4d\\u0d24\\u0d30 \\u0d2a\\u0d4d\\u0d30\\u0d15\\u0d4d\\u0d37\\u0d47\\u0d2a\\u0d23 \\u0d38\\u0d02\\u0d35\\u0d3f\\u0d27\\u0d3e\\u0d28\\u0d02 \\u0d2a\\u0d4d\\u0d30\\u0d35\\u0d7c\\u0d24\\u0d4d\\u0d24\\u0d28\\u0d30\\u0d39\\u0d3f\\u0d24\\u0d2e\\u0d3e\\u0d15\\u0d4d\\u0d15\\u0d41\\u0d28\\u0d4d\\u0d28\\u0d41\",\n          \"\\u0d35\\u0d3f\\u0d7c\\u0d1c\\u0d40\\u0d28\\u0d3f\\u0d2f\\u0d2f\\u0d3f\\u0d7d \\u0d2b\\u0d48\\u0d38\\u0d7c-\\u0d2c\\u0d2f\\u0d4b\\u0d1f\\u0d46\\u0d15\\u0d4d \\u0d15\\u0d4b\\u0d35\\u0d3f\\u0d21\\u0d4d -19 \\u0d35\\u0d3e\\u0d15\\u0d4d\\u0d38\\u0d3f\\u0d7b \\u0d38\\u0d4d\\u0d35\\u0d40\\u0d15\\u0d30\\u0d3f\\u0d1a\\u0d4d\\u0d1a \\u0d30\\u0d23\\u0d4d\\u0d1f\\u0d4d \\u0d35\\u0d2f\\u0d38\\u0d41\\u0d15\\u0d3e\\u0d30\\u0d7b \\u0d2e\\u0d30\\u0d3f\\u0d1a\\u0d4d\\u0d1a\\u0d41\",\n          \"\\u0d24\\u0d40\\u0d35\\u0d4d\\u0d30\\u0d35\\u0d3e\\u0d26\\u0d3f\\u0d15\\u0d33\\u0d41\\u0d2e\\u0d3e\\u0d2f\\u0d3f \\u0d1a\\u0d47\\u0d7c\\u0d28\\u0d4d\\u0d28\\u0d4d \\u0d2e\\u0d24\\u0d4d\\u0d38\\u0d30\\u0d3f\\u0d15\\u0d4d\\u0d15\\u0d3e\\u0d7b \\u0d24\\u0d2f\\u0d4d\\u0d2f\\u0d3e\\u0d31\\u0d46\\u0d1f\\u0d41\\u0d2a\\u0d4d\\u0d2a\\u0d4d \\u0d2f\\u0d41\\u0d21\\u0d3f\\u0d0e\\u0d2b\\u0d4d\"\n        ],\n        \"semantic_type\": \"\",\n        \"description\": \"\"\n      }\n    },\n    {\n      \"column\": \"Label\",\n      \"properties\": {\n        \"dtype\": \"category\",\n        \"num_unique_values\": 5,\n        \"samples\": [\n          \"HALF TRUE\",\n          \"PARTLY FALSE\",\n          \"FALSE\"\n        ],\n        \"semantic_type\": \"\",\n        \"description\": \"\"\n      }\n    }\n  ]\n}"
            }
          },
          "metadata": {},
          "execution_count": 77
        }
      ],
      "execution_count": 77
    },
    {
      "cell_type": "code",
      "source": [
        "# List of columns to drop\n",
        "#columns_to_drop = ['Unnamed: 0']\n",
        "\n",
        "# Drop the columns\n",
        "#train_df = train_df.drop(columns=columns_to_drop)\n"
      ],
      "metadata": {
        "trusted": true,
        "execution": {
          "iopub.status.busy": "2025-01-10T08:29:30.884046Z",
          "iopub.execute_input": "2025-01-10T08:29:30.884256Z",
          "iopub.status.idle": "2025-01-10T08:29:30.887289Z",
          "shell.execute_reply.started": "2025-01-10T08:29:30.884238Z",
          "shell.execute_reply": "2025-01-10T08:29:30.886507Z"
        },
        "id": "d_bO5te6EAU0"
      },
      "outputs": [],
      "execution_count": 78
    },
    {
      "cell_type": "code",
      "source": [
        "from sklearn.model_selection import train_test_split"
      ],
      "metadata": {
        "id": "6A5tLOEN-n8u",
        "trusted": true,
        "execution": {
          "iopub.status.busy": "2025-01-10T08:29:30.888431Z",
          "iopub.execute_input": "2025-01-10T08:29:30.888694Z",
          "iopub.status.idle": "2025-01-10T08:29:30.902523Z",
          "shell.execute_reply.started": "2025-01-10T08:29:30.888672Z",
          "shell.execute_reply": "2025-01-10T08:29:30.901647Z"
        }
      },
      "outputs": [],
      "execution_count": 79
    },
    {
      "cell_type": "code",
      "source": [
        "# Split into train, validation\n",
        "train_df, val_df = train_test_split(all_df, test_size=0.2, stratify=all_df[\"Label\"], random_state=42)"
      ],
      "metadata": {
        "id": "T-wpvNnK-t7B",
        "trusted": true,
        "execution": {
          "iopub.status.busy": "2025-01-10T08:29:30.903241Z",
          "iopub.execute_input": "2025-01-10T08:29:30.903519Z",
          "iopub.status.idle": "2025-01-10T08:29:30.921454Z",
          "shell.execute_reply.started": "2025-01-10T08:29:30.903485Z",
          "shell.execute_reply": "2025-01-10T08:29:30.920716Z"
        }
      },
      "outputs": [],
      "execution_count": 80
    },
    {
      "cell_type": "code",
      "source": [
        "test_df = pd.read_csv(\"/content/fake_news_classification_mal_test.xlsx - Sheet1.csv\")\n",
        "test_df.head(3)"
      ],
      "metadata": {
        "colab": {
          "base_uri": "https://localhost:8080/",
          "height": 143
        },
        "id": "2E_VKeHrOV6G",
        "outputId": "27359ffa-d4ac-4966-8b9d-6b53f3b4ed51",
        "trusted": true,
        "execution": {
          "iopub.status.busy": "2025-01-10T08:29:30.922219Z",
          "iopub.execute_input": "2025-01-10T08:29:30.922504Z",
          "iopub.status.idle": "2025-01-10T08:29:30.941761Z",
          "shell.execute_reply.started": "2025-01-10T08:29:30.922483Z",
          "shell.execute_reply": "2025-01-10T08:29:30.940991Z"
        }
      },
      "outputs": [
        {
          "output_type": "execute_result",
          "data": {
            "text/plain": [
              "               S.no                                               News\n",
              "0  FAKE_MAL_TE_0001  കേരളത്തില്‍ പുരുഷന്മാര്‍ക്ക് രണ്ട് ഭാര്യമാര്‍ ...\n",
              "1  FAKE_MAL_TE_0002  പാർട്ടിയുടെ കൊടിക്ക് മഹത്വം ഉണ്ടെന്നും സംരംഭങ്...\n",
              "2  FAKE_MAL_TE_0003  നവകേരള സദസ്സ്: കാട്ടാക്കട ക്രിസ്ത്യൻ കോളേജ് കവ..."
            ],
            "text/html": [
              "\n",
              "  <div id=\"df-da8a46a1-181b-4a3c-923a-58ca9721ea4b\" class=\"colab-df-container\">\n",
              "    <div>\n",
              "<style scoped>\n",
              "    .dataframe tbody tr th:only-of-type {\n",
              "        vertical-align: middle;\n",
              "    }\n",
              "\n",
              "    .dataframe tbody tr th {\n",
              "        vertical-align: top;\n",
              "    }\n",
              "\n",
              "    .dataframe thead th {\n",
              "        text-align: right;\n",
              "    }\n",
              "</style>\n",
              "<table border=\"1\" class=\"dataframe\">\n",
              "  <thead>\n",
              "    <tr style=\"text-align: right;\">\n",
              "      <th></th>\n",
              "      <th>S.no</th>\n",
              "      <th>News</th>\n",
              "    </tr>\n",
              "  </thead>\n",
              "  <tbody>\n",
              "    <tr>\n",
              "      <th>0</th>\n",
              "      <td>FAKE_MAL_TE_0001</td>\n",
              "      <td>കേരളത്തില്‍ പുരുഷന്മാര്‍ക്ക് രണ്ട് ഭാര്യമാര്‍ ...</td>\n",
              "    </tr>\n",
              "    <tr>\n",
              "      <th>1</th>\n",
              "      <td>FAKE_MAL_TE_0002</td>\n",
              "      <td>പാർട്ടിയുടെ കൊടിക്ക് മഹത്വം ഉണ്ടെന്നും സംരംഭങ്...</td>\n",
              "    </tr>\n",
              "    <tr>\n",
              "      <th>2</th>\n",
              "      <td>FAKE_MAL_TE_0003</td>\n",
              "      <td>നവകേരള സദസ്സ്: കാട്ടാക്കട ക്രിസ്ത്യൻ കോളേജ് കവ...</td>\n",
              "    </tr>\n",
              "  </tbody>\n",
              "</table>\n",
              "</div>\n",
              "    <div class=\"colab-df-buttons\">\n",
              "\n",
              "  <div class=\"colab-df-container\">\n",
              "    <button class=\"colab-df-convert\" onclick=\"convertToInteractive('df-da8a46a1-181b-4a3c-923a-58ca9721ea4b')\"\n",
              "            title=\"Convert this dataframe to an interactive table.\"\n",
              "            style=\"display:none;\">\n",
              "\n",
              "  <svg xmlns=\"http://www.w3.org/2000/svg\" height=\"24px\" viewBox=\"0 -960 960 960\">\n",
              "    <path d=\"M120-120v-720h720v720H120Zm60-500h600v-160H180v160Zm220 220h160v-160H400v160Zm0 220h160v-160H400v160ZM180-400h160v-160H180v160Zm440 0h160v-160H620v160ZM180-180h160v-160H180v160Zm440 0h160v-160H620v160Z\"/>\n",
              "  </svg>\n",
              "    </button>\n",
              "\n",
              "  <style>\n",
              "    .colab-df-container {\n",
              "      display:flex;\n",
              "      gap: 12px;\n",
              "    }\n",
              "\n",
              "    .colab-df-convert {\n",
              "      background-color: #E8F0FE;\n",
              "      border: none;\n",
              "      border-radius: 50%;\n",
              "      cursor: pointer;\n",
              "      display: none;\n",
              "      fill: #1967D2;\n",
              "      height: 32px;\n",
              "      padding: 0 0 0 0;\n",
              "      width: 32px;\n",
              "    }\n",
              "\n",
              "    .colab-df-convert:hover {\n",
              "      background-color: #E2EBFA;\n",
              "      box-shadow: 0px 1px 2px rgba(60, 64, 67, 0.3), 0px 1px 3px 1px rgba(60, 64, 67, 0.15);\n",
              "      fill: #174EA6;\n",
              "    }\n",
              "\n",
              "    .colab-df-buttons div {\n",
              "      margin-bottom: 4px;\n",
              "    }\n",
              "\n",
              "    [theme=dark] .colab-df-convert {\n",
              "      background-color: #3B4455;\n",
              "      fill: #D2E3FC;\n",
              "    }\n",
              "\n",
              "    [theme=dark] .colab-df-convert:hover {\n",
              "      background-color: #434B5C;\n",
              "      box-shadow: 0px 1px 3px 1px rgba(0, 0, 0, 0.15);\n",
              "      filter: drop-shadow(0px 1px 2px rgba(0, 0, 0, 0.3));\n",
              "      fill: #FFFFFF;\n",
              "    }\n",
              "  </style>\n",
              "\n",
              "    <script>\n",
              "      const buttonEl =\n",
              "        document.querySelector('#df-da8a46a1-181b-4a3c-923a-58ca9721ea4b button.colab-df-convert');\n",
              "      buttonEl.style.display =\n",
              "        google.colab.kernel.accessAllowed ? 'block' : 'none';\n",
              "\n",
              "      async function convertToInteractive(key) {\n",
              "        const element = document.querySelector('#df-da8a46a1-181b-4a3c-923a-58ca9721ea4b');\n",
              "        const dataTable =\n",
              "          await google.colab.kernel.invokeFunction('convertToInteractive',\n",
              "                                                    [key], {});\n",
              "        if (!dataTable) return;\n",
              "\n",
              "        const docLinkHtml = 'Like what you see? Visit the ' +\n",
              "          '<a target=\"_blank\" href=https://colab.research.google.com/notebooks/data_table.ipynb>data table notebook</a>'\n",
              "          + ' to learn more about interactive tables.';\n",
              "        element.innerHTML = '';\n",
              "        dataTable['output_type'] = 'display_data';\n",
              "        await google.colab.output.renderOutput(dataTable, element);\n",
              "        const docLink = document.createElement('div');\n",
              "        docLink.innerHTML = docLinkHtml;\n",
              "        element.appendChild(docLink);\n",
              "      }\n",
              "    </script>\n",
              "  </div>\n",
              "\n",
              "\n",
              "<div id=\"df-d67c3e30-92de-449d-b0ff-fbd59601efbb\">\n",
              "  <button class=\"colab-df-quickchart\" onclick=\"quickchart('df-d67c3e30-92de-449d-b0ff-fbd59601efbb')\"\n",
              "            title=\"Suggest charts\"\n",
              "            style=\"display:none;\">\n",
              "\n",
              "<svg xmlns=\"http://www.w3.org/2000/svg\" height=\"24px\"viewBox=\"0 0 24 24\"\n",
              "     width=\"24px\">\n",
              "    <g>\n",
              "        <path d=\"M19 3H5c-1.1 0-2 .9-2 2v14c0 1.1.9 2 2 2h14c1.1 0 2-.9 2-2V5c0-1.1-.9-2-2-2zM9 17H7v-7h2v7zm4 0h-2V7h2v10zm4 0h-2v-4h2v4z\"/>\n",
              "    </g>\n",
              "</svg>\n",
              "  </button>\n",
              "\n",
              "<style>\n",
              "  .colab-df-quickchart {\n",
              "      --bg-color: #E8F0FE;\n",
              "      --fill-color: #1967D2;\n",
              "      --hover-bg-color: #E2EBFA;\n",
              "      --hover-fill-color: #174EA6;\n",
              "      --disabled-fill-color: #AAA;\n",
              "      --disabled-bg-color: #DDD;\n",
              "  }\n",
              "\n",
              "  [theme=dark] .colab-df-quickchart {\n",
              "      --bg-color: #3B4455;\n",
              "      --fill-color: #D2E3FC;\n",
              "      --hover-bg-color: #434B5C;\n",
              "      --hover-fill-color: #FFFFFF;\n",
              "      --disabled-bg-color: #3B4455;\n",
              "      --disabled-fill-color: #666;\n",
              "  }\n",
              "\n",
              "  .colab-df-quickchart {\n",
              "    background-color: var(--bg-color);\n",
              "    border: none;\n",
              "    border-radius: 50%;\n",
              "    cursor: pointer;\n",
              "    display: none;\n",
              "    fill: var(--fill-color);\n",
              "    height: 32px;\n",
              "    padding: 0;\n",
              "    width: 32px;\n",
              "  }\n",
              "\n",
              "  .colab-df-quickchart:hover {\n",
              "    background-color: var(--hover-bg-color);\n",
              "    box-shadow: 0 1px 2px rgba(60, 64, 67, 0.3), 0 1px 3px 1px rgba(60, 64, 67, 0.15);\n",
              "    fill: var(--button-hover-fill-color);\n",
              "  }\n",
              "\n",
              "  .colab-df-quickchart-complete:disabled,\n",
              "  .colab-df-quickchart-complete:disabled:hover {\n",
              "    background-color: var(--disabled-bg-color);\n",
              "    fill: var(--disabled-fill-color);\n",
              "    box-shadow: none;\n",
              "  }\n",
              "\n",
              "  .colab-df-spinner {\n",
              "    border: 2px solid var(--fill-color);\n",
              "    border-color: transparent;\n",
              "    border-bottom-color: var(--fill-color);\n",
              "    animation:\n",
              "      spin 1s steps(1) infinite;\n",
              "  }\n",
              "\n",
              "  @keyframes spin {\n",
              "    0% {\n",
              "      border-color: transparent;\n",
              "      border-bottom-color: var(--fill-color);\n",
              "      border-left-color: var(--fill-color);\n",
              "    }\n",
              "    20% {\n",
              "      border-color: transparent;\n",
              "      border-left-color: var(--fill-color);\n",
              "      border-top-color: var(--fill-color);\n",
              "    }\n",
              "    30% {\n",
              "      border-color: transparent;\n",
              "      border-left-color: var(--fill-color);\n",
              "      border-top-color: var(--fill-color);\n",
              "      border-right-color: var(--fill-color);\n",
              "    }\n",
              "    40% {\n",
              "      border-color: transparent;\n",
              "      border-right-color: var(--fill-color);\n",
              "      border-top-color: var(--fill-color);\n",
              "    }\n",
              "    60% {\n",
              "      border-color: transparent;\n",
              "      border-right-color: var(--fill-color);\n",
              "    }\n",
              "    80% {\n",
              "      border-color: transparent;\n",
              "      border-right-color: var(--fill-color);\n",
              "      border-bottom-color: var(--fill-color);\n",
              "    }\n",
              "    90% {\n",
              "      border-color: transparent;\n",
              "      border-bottom-color: var(--fill-color);\n",
              "    }\n",
              "  }\n",
              "</style>\n",
              "\n",
              "  <script>\n",
              "    async function quickchart(key) {\n",
              "      const quickchartButtonEl =\n",
              "        document.querySelector('#' + key + ' button');\n",
              "      quickchartButtonEl.disabled = true;  // To prevent multiple clicks.\n",
              "      quickchartButtonEl.classList.add('colab-df-spinner');\n",
              "      try {\n",
              "        const charts = await google.colab.kernel.invokeFunction(\n",
              "            'suggestCharts', [key], {});\n",
              "      } catch (error) {\n",
              "        console.error('Error during call to suggestCharts:', error);\n",
              "      }\n",
              "      quickchartButtonEl.classList.remove('colab-df-spinner');\n",
              "      quickchartButtonEl.classList.add('colab-df-quickchart-complete');\n",
              "    }\n",
              "    (() => {\n",
              "      let quickchartButtonEl =\n",
              "        document.querySelector('#df-d67c3e30-92de-449d-b0ff-fbd59601efbb button');\n",
              "      quickchartButtonEl.style.display =\n",
              "        google.colab.kernel.accessAllowed ? 'block' : 'none';\n",
              "    })();\n",
              "  </script>\n",
              "</div>\n",
              "\n",
              "    </div>\n",
              "  </div>\n"
            ],
            "application/vnd.google.colaboratory.intrinsic+json": {
              "type": "dataframe",
              "variable_name": "test_df",
              "summary": "{\n  \"name\": \"test_df\",\n  \"rows\": 200,\n  \"fields\": [\n    {\n      \"column\": \"S.no\",\n      \"properties\": {\n        \"dtype\": \"string\",\n        \"num_unique_values\": 200,\n        \"samples\": [\n          \"FAKE_MAL_TE_0096\",\n          \"FAKE_MAL_TE_0016\",\n          \"FAKE_MAL_TE_0031\"\n        ],\n        \"semantic_type\": \"\",\n        \"description\": \"\"\n      }\n    },\n    {\n      \"column\": \"News\",\n      \"properties\": {\n        \"dtype\": \"string\",\n        \"num_unique_values\": 200,\n        \"samples\": [\n          \"\\u0d15\\u0d46.\\u0d38\\u0d41\\u0d27\\u0d3e\\u0d15\\u0d30\\u0d28\\u0d4d\\u200d \\u0d1c\\u0d46\\u0d2c\\u0d3f \\u0d2e\\u0d47\\u0d24\\u0d4d\\u0d24\\u0d30\\u0d4d\\u200d \\u0d0e\\u0d02\\u0d2a\\u0d3f\\u0d2f\\u0d4b\\u0d1f\\u0d4a\\u0d2a\\u0d4d\\u0d2a\\u0d02 \\u0d35\\u0d47\\u0d33\\u0d4d\\u200d\\u0d21\\u0d4d \\u0d1f\\u0d42\\u0d31\\u0d3f\\u0d28\\u0d4d \\u0d2a\\u0d4b\\u0d15\\u0d41\\u0d28\\u0d4d\\u0d28\\u0d41\",\n          \"\\u0d2e\\u0d1e\\u0d4d\\u0d1a\\u0d47\\u0d36\\u0d4d\\u0d35\\u0d30\\u0d02 \\u0d0e\\u0d02\\u0d0e\\u0d7d\\u0d0e \\u0d15\\u0d46 \\u0d0e\\u0d02 \\u0d0e \\u0d05\\u0d37\\u0d4d\\u0d31\\u0d2b\\u0d4d \\u0d06\\u0d7c\\u0d0e\\u0d38\\u0d4d\\u0d0e\\u0d38\\u0d4d \\u0d2a\\u0d30\\u0d3f\\u0d2a\\u0d3e\\u0d1f\\u0d3f\\u0d2f\\u0d3f\\u0d7d \\u0d2a\\u0d19\\u0d4d\\u0d15\\u0d46\\u0d1f\\u0d41\\u0d24\\u0d4d\\u0d24\\u0d41\",\n          \"\\u0d2c\\u0d3e\\u0d28\\u0d4d\\u0d26\\u0d4d\\u0d30-\\u0d35\\u0d7c\\u0d33\\u0d3f \\u0d38\\u0d40 \\u0d32\\u0d3f\\u0d19\\u0d4d\\u0d15\\u0d4d \\u0d28\\u0d3f\\u0d7c\\u0d2e\\u0d4d\\u0d2e\\u0d3f\\u0d1a\\u0d4d\\u0d1a\\u0d24\\u0d4d \\u0d2a\\u0d4d\\u0d30\\u0d27\\u0d3e\\u0d28\\u0d2e\\u0d28\\u0d4d\\u0d24\\u0d4d\\u0d30\\u0d3f \\u0d28\\u0d30\\u0d47\\u0d28\\u0d4d\\u0d26\\u0d4d\\u0d30 \\u0d2e\\u0d4b\\u0d26\\u0d3f\\u0d2f\\u0d41\\u0d1f\\u0d46 \\u0d15\\u0d3e\\u0d32\\u0d24\\u0d4d\\u0d24\\u0d4d\"\n        ],\n        \"semantic_type\": \"\",\n        \"description\": \"\"\n      }\n    }\n  ]\n}"
            }
          },
          "metadata": {},
          "execution_count": 81
        }
      ],
      "execution_count": 81
    },
    {
      "cell_type": "code",
      "source": [
        "TEXT_VAR = \"News\"\n",
        "LABEL_VAR = \"Label\""
      ],
      "metadata": {
        "id": "vBV05Fncp8BN",
        "trusted": true,
        "execution": {
          "iopub.status.busy": "2025-01-10T08:29:30.943675Z",
          "iopub.execute_input": "2025-01-10T08:29:30.943865Z",
          "iopub.status.idle": "2025-01-10T08:29:30.952246Z",
          "shell.execute_reply.started": "2025-01-10T08:29:30.943848Z",
          "shell.execute_reply": "2025-01-10T08:29:30.951560Z"
        }
      },
      "outputs": [],
      "execution_count": 82
    },
    {
      "cell_type": "markdown",
      "source": [
        "Labels are not numerical. Let's make them numerical."
      ],
      "metadata": {
        "id": "pWPhww7yS-IM"
      }
    },
    {
      "cell_type": "code",
      "source": [
        "# Map text labels to numerical values\n",
        "label_mapping = {label: idx for idx, label in enumerate(train_df[LABEL_VAR].unique())}\n",
        "train_df[LABEL_VAR] = train_df[LABEL_VAR].map(label_mapping)  # Change as necessary\n",
        "val_df[LABEL_VAR] = val_df[LABEL_VAR].map(label_mapping)  # Change as necessary"
      ],
      "metadata": {
        "id": "-OFVXk3HPXj2",
        "trusted": true,
        "execution": {
          "iopub.status.busy": "2025-01-10T08:29:30.953244Z",
          "iopub.execute_input": "2025-01-10T08:29:30.953544Z",
          "iopub.status.idle": "2025-01-10T08:29:30.969142Z",
          "shell.execute_reply.started": "2025-01-10T08:29:30.953505Z",
          "shell.execute_reply": "2025-01-10T08:29:30.968412Z"
        }
      },
      "outputs": [],
      "execution_count": 83
    },
    {
      "cell_type": "markdown",
      "source": [
        "# Modeling"
      ],
      "metadata": {
        "id": "DiD1U4XjudBB"
      }
    },
    {
      "cell_type": "markdown",
      "source": [
        "## Load Things"
      ],
      "metadata": {
        "id": "e47rxAVBOFx3"
      }
    },
    {
      "cell_type": "code",
      "source": [
        "import os\n",
        "import torch\n",
        "import torch.nn as nn\n",
        "import pandas as pd\n",
        "from torch.utils.data import DataLoader, Dataset\n",
        "from transformers import AutoModel, AutoTokenizer, AutoProcessor\n",
        "from sklearn.metrics import accuracy_score, f1_score, precision_score, recall_score\n",
        "from tqdm import tqdm"
      ],
      "metadata": {
        "id": "6rnkckw3nPMn",
        "trusted": true,
        "execution": {
          "iopub.status.busy": "2025-01-10T08:29:30.969851Z",
          "iopub.execute_input": "2025-01-10T08:29:30.970102Z",
          "iopub.status.idle": "2025-01-10T08:29:30.984373Z",
          "shell.execute_reply.started": "2025-01-10T08:29:30.970083Z",
          "shell.execute_reply": "2025-01-10T08:29:30.983539Z"
        }
      },
      "outputs": [],
      "execution_count": 84
    },
    {
      "cell_type": "code",
      "source": [
        "# Set device\n",
        "device = torch.device(\"cuda\" if torch.cuda.is_available() else \"cpu\")"
      ],
      "metadata": {
        "id": "XZ9DGFwlncqP",
        "trusted": true,
        "execution": {
          "iopub.status.busy": "2025-01-10T08:29:30.985179Z",
          "iopub.execute_input": "2025-01-10T08:29:30.985502Z",
          "iopub.status.idle": "2025-01-10T08:29:30.999087Z",
          "shell.execute_reply.started": "2025-01-10T08:29:30.985471Z",
          "shell.execute_reply": "2025-01-10T08:29:30.998320Z"
        }
      },
      "outputs": [],
      "execution_count": 85
    },
    {
      "cell_type": "code",
      "source": [
        "seed = 42\n",
        "torch.manual_seed(seed)"
      ],
      "metadata": {
        "id": "K10J2skvHanJ",
        "colab": {
          "base_uri": "https://localhost:8080/"
        },
        "outputId": "b50ceb3b-2bc4-4394-89fe-2654f6ea2e3a",
        "trusted": true,
        "execution": {
          "iopub.status.busy": "2025-01-10T08:29:31.011310Z",
          "iopub.execute_input": "2025-01-10T08:29:31.011555Z",
          "iopub.status.idle": "2025-01-10T08:29:31.017775Z",
          "shell.execute_reply.started": "2025-01-10T08:29:31.011535Z",
          "shell.execute_reply": "2025-01-10T08:29:31.016886Z"
        }
      },
      "outputs": [
        {
          "output_type": "execute_result",
          "data": {
            "text/plain": [
              "<torch._C.Generator at 0x7d5f77f24310>"
            ]
          },
          "metadata": {},
          "execution_count": 86
        }
      ],
      "execution_count": 86
    },
    {
      "cell_type": "code",
      "source": [
        "# Hyperparameters\n",
        "model_name = \"l3cube-pune/malayalam-topic-all-doc\"\n",
        "batch_size = 16\n",
        "max_length = 512"
      ],
      "metadata": {
        "id": "TzwK6-Jgn9OX",
        "trusted": true,
        "execution": {
          "iopub.status.busy": "2025-01-10T08:29:31.018783Z",
          "iopub.execute_input": "2025-01-10T08:29:31.018981Z",
          "iopub.status.idle": "2025-01-10T08:29:31.029732Z",
          "shell.execute_reply.started": "2025-01-10T08:29:31.018963Z",
          "shell.execute_reply": "2025-01-10T08:29:31.029004Z"
        }
      },
      "outputs": [],
      "execution_count": 87
    },
    {
      "cell_type": "code",
      "source": [
        "# Load Tokenizer and Model\n",
        "text_tokenizer = AutoTokenizer.from_pretrained(model_name)\n",
        "text_model = AutoModel.from_pretrained(model_name).to(device)"
      ],
      "metadata": {
        "id": "7BPWR_jaoUPG",
        "trusted": true,
        "execution": {
          "iopub.status.busy": "2025-01-10T08:29:31.031133Z",
          "iopub.execute_input": "2025-01-10T08:29:31.031391Z",
          "iopub.status.idle": "2025-01-10T08:29:31.753772Z",
          "shell.execute_reply.started": "2025-01-10T08:29:31.031365Z",
          "shell.execute_reply": "2025-01-10T08:29:31.753088Z"
        }
      },
      "outputs": [],
      "execution_count": 88
    },
    {
      "cell_type": "code",
      "source": [
        "class TextDataset(Dataset):\n",
        "    def __init__(self, df, tokenizer):\n",
        "        self.df = df\n",
        "        self.tokenizer = tokenizer\n",
        "\n",
        "    def __len__(self):\n",
        "        return len(self.df)\n",
        "\n",
        "    def __getitem__(self, idx):\n",
        "        transcription = self.df.iloc[idx][TEXT_VAR]\n",
        "        transcription = transcription if isinstance(transcription, str) else \"\"\n",
        "        inputs = self.tokenizer(\n",
        "            transcription, padding=\"max_length\", truncation=True, max_length=max_length, return_tensors=\"pt\"\n",
        "        )\n",
        "        return inputs, self.df.iloc[idx][LABEL_VAR]"
      ],
      "metadata": {
        "id": "NUv10RXNog5F",
        "trusted": true,
        "execution": {
          "iopub.status.busy": "2025-01-10T08:29:31.755198Z",
          "iopub.execute_input": "2025-01-10T08:29:31.755514Z",
          "iopub.status.idle": "2025-01-10T08:29:31.760238Z",
          "shell.execute_reply.started": "2025-01-10T08:29:31.755483Z",
          "shell.execute_reply": "2025-01-10T08:29:31.759437Z"
        }
      },
      "outputs": [],
      "execution_count": 89
    },
    {
      "cell_type": "markdown",
      "source": [
        "## Collect Embeddings"
      ],
      "metadata": {
        "id": "SvDAb6ndrsB0"
      }
    },
    {
      "cell_type": "code",
      "source": [
        "def extract_text_embeddings(df, save_path, model, tokenizer):\n",
        "    if os.path.exists(save_path):\n",
        "        print(f\"Embeddings already exist at {save_path}\")\n",
        "        return torch.load(save_path)\n",
        "\n",
        "    embeddings = {}\n",
        "    model.eval()\n",
        "    with torch.no_grad():\n",
        "        for idx, row in tqdm(df.iterrows(), desc=\"Extracting text embeddings\", total=len(df)):\n",
        "            transcription = row[TEXT_VAR]\n",
        "            transcription = transcription if isinstance(transcription, str) else \"\"\n",
        "\n",
        "            # Tokenize the text\n",
        "            inputs = tokenizer(\n",
        "                transcription, padding=\"max_length\", truncation=True, max_length=512, return_tensors=\"pt\"\n",
        "            )\n",
        "            inputs = {key: value.to(device) for key, value in inputs.items()}  # Move inputs to GPU/CPU\n",
        "\n",
        "            # Extract embeddings\n",
        "            outputs = model(**inputs)\n",
        "            cls_embedding = outputs.last_hidden_state[:, 0, :]  # [CLS] token embeddings\n",
        "            embeddings[idx] = cls_embedding.cpu()  # Use the index as the key\n",
        "\n",
        "    torch.save(embeddings, save_path)\n",
        "    return embeddings"
      ],
      "metadata": {
        "id": "FHrgied3qYUE",
        "trusted": true,
        "execution": {
          "iopub.status.busy": "2025-01-10T08:29:31.761242Z",
          "iopub.execute_input": "2025-01-10T08:29:31.761566Z",
          "iopub.status.idle": "2025-01-10T08:29:31.778787Z",
          "shell.execute_reply.started": "2025-01-10T08:29:31.761537Z",
          "shell.execute_reply": "2025-01-10T08:29:31.778067Z"
        }
      },
      "outputs": [],
      "execution_count": 90
    },
    {
      "cell_type": "code",
      "source": [
        "train_text_embeddings = extract_text_embeddings(\n",
        "    train_df, \"train_text_embeddings.pt\", text_model, text_tokenizer\n",
        ")\n",
        "val_text_embeddings = extract_text_embeddings(\n",
        "    val_df, \"val_text_embeddings.pt\", text_model, text_tokenizer\n",
        ")\n",
        "test_text_embeddings = extract_text_embeddings(\n",
        "    test_df, \"test_text_embeddings.pt\", text_model, text_tokenizer\n",
        ")"
      ],
      "metadata": {
        "colab": {
          "base_uri": "https://localhost:8080/"
        },
        "id": "H3J08p08qdnl",
        "outputId": "ab4791e6-ba29-470f-9e9f-698c4502046e",
        "trusted": true,
        "execution": {
          "iopub.status.busy": "2025-01-10T08:29:31.779489Z",
          "iopub.execute_input": "2025-01-10T08:29:31.779746Z",
          "iopub.status.idle": "2025-01-10T08:29:31.874654Z",
          "shell.execute_reply.started": "2025-01-10T08:29:31.779718Z",
          "shell.execute_reply": "2025-01-10T08:29:31.873983Z"
        }
      },
      "outputs": [
        {
          "output_type": "stream",
          "name": "stdout",
          "text": [
            "Embeddings already exist at train_text_embeddings.pt\n",
            "Embeddings already exist at val_text_embeddings.pt\n",
            "Embeddings already exist at test_text_embeddings.pt\n"
          ]
        }
      ],
      "execution_count": 91
    },
    {
      "cell_type": "markdown",
      "source": [
        "## Load Embeddings"
      ],
      "metadata": {
        "id": "LKT81NDSse1T"
      }
    },
    {
      "cell_type": "code",
      "source": [
        "def load_embeddings(embedding_path):\n",
        "    if os.path.exists(embedding_path):\n",
        "        print(f\"Loading embeddings from {embedding_path}\")\n",
        "        return torch.load(embedding_path)\n",
        "    else:\n",
        "        raise FileNotFoundError(f\"Embeddings file not found at {embedding_path}\")"
      ],
      "metadata": {
        "id": "f19wvaWMsktS",
        "trusted": true,
        "execution": {
          "iopub.status.busy": "2025-01-10T08:29:31.875434Z",
          "iopub.execute_input": "2025-01-10T08:29:31.875624Z",
          "iopub.status.idle": "2025-01-10T08:29:31.879206Z",
          "shell.execute_reply.started": "2025-01-10T08:29:31.875607Z",
          "shell.execute_reply": "2025-01-10T08:29:31.878485Z"
        }
      },
      "outputs": [],
      "execution_count": 92
    },
    {
      "cell_type": "code",
      "source": [
        "train_text_embeddings = load_embeddings(\"/content/train_text_embeddings.pt\")\n",
        "val_text_embeddings = load_embeddings(\"/content/val_text_embeddings.pt\")\n",
        "test_text_embeddings = load_embeddings(\"/content/test_text_embeddings.pt\")"
      ],
      "metadata": {
        "colab": {
          "base_uri": "https://localhost:8080/"
        },
        "id": "OUb9t8sjrUCM",
        "outputId": "694594c9-09ff-4f18-b475-2b826002575a",
        "trusted": true,
        "execution": {
          "iopub.status.busy": "2025-01-10T08:29:31.879989Z",
          "iopub.execute_input": "2025-01-10T08:29:31.880194Z",
          "iopub.status.idle": "2025-01-10T08:29:31.977858Z",
          "shell.execute_reply.started": "2025-01-10T08:29:31.880165Z",
          "shell.execute_reply": "2025-01-10T08:29:31.977092Z"
        }
      },
      "outputs": [
        {
          "output_type": "stream",
          "name": "stdout",
          "text": [
            "Loading embeddings from /content/train_text_embeddings.pt\n",
            "Loading embeddings from /content/val_text_embeddings.pt\n",
            "Loading embeddings from /content/test_text_embeddings.pt\n"
          ]
        }
      ],
      "execution_count": 93
    },
    {
      "cell_type": "markdown",
      "source": [
        "## Modeling"
      ],
      "metadata": {
        "id": "Pvc6Dm5kshIj"
      }
    },
    {
      "cell_type": "code",
      "source": [
        "import torch.optim as optim\n",
        "from sklearn.metrics import accuracy_score, precision_recall_fscore_support\n",
        "from torch.utils.data import DataLoader, TensorDataset"
      ],
      "metadata": {
        "id": "z0Tb_r_irT27",
        "trusted": true,
        "execution": {
          "iopub.status.busy": "2025-01-10T08:29:31.980065Z",
          "iopub.execute_input": "2025-01-10T08:29:31.980282Z",
          "iopub.status.idle": "2025-01-10T08:29:31.983646Z",
          "shell.execute_reply.started": "2025-01-10T08:29:31.980262Z",
          "shell.execute_reply": "2025-01-10T08:29:31.982826Z"
        }
      },
      "outputs": [],
      "execution_count": 94
    },
    {
      "cell_type": "code",
      "source": [
        "def prepare_text_embeddings(text_embeddings, df, LABEL_VAR, has_labels=True):\n",
        "    combined_embeddings = []\n",
        "    labels = [] if has_labels else None\n",
        "\n",
        "    for idx, row in df.iterrows():\n",
        "        # Ensure the index exists in the text embeddings\n",
        "        if idx in text_embeddings:\n",
        "            text_embedding = text_embeddings[idx].squeeze()  # Squeeze to remove unnecessary dimensions\n",
        "\n",
        "            # Add the text embedding to the list\n",
        "            combined_embeddings.append(text_embedding)\n",
        "\n",
        "            if has_labels:\n",
        "                labels.append(row[LABEL_VAR])  # Get the label from the DataFrame\n",
        "\n",
        "    if has_labels:\n",
        "        return torch.stack(combined_embeddings), torch.tensor(labels)\n",
        "    else:\n",
        "        return torch.stack(combined_embeddings)"
      ],
      "metadata": {
        "id": "zyDdzX-AtsbZ",
        "trusted": true,
        "execution": {
          "iopub.status.busy": "2025-01-10T08:29:31.984891Z",
          "iopub.execute_input": "2025-01-10T08:29:31.985121Z",
          "iopub.status.idle": "2025-01-10T08:29:31.998868Z",
          "shell.execute_reply.started": "2025-01-10T08:29:31.985102Z",
          "shell.execute_reply": "2025-01-10T08:29:31.998084Z"
        }
      },
      "outputs": [],
      "execution_count": 95
    },
    {
      "cell_type": "code",
      "source": [
        "X_train, y_train = prepare_text_embeddings(train_text_embeddings, train_df, LABEL_VAR)\n",
        "X_val, y_val = prepare_text_embeddings(val_text_embeddings, val_df, LABEL_VAR)\n",
        "X_test = prepare_text_embeddings(test_text_embeddings, test_df, LABEL_VAR, has_labels=False)\n",
        "\n",
        "print(f\"Training data shape: {X_train.shape}, Labels: {y_train.shape}\")\n",
        "print(f\"Validation data shape: {X_val.shape}, Labels: {y_val.shape}\")\n",
        "print(f\"Test data shape: {X_test.shape}\")"
      ],
      "metadata": {
        "colab": {
          "base_uri": "https://localhost:8080/"
        },
        "id": "lemZ0ItCtvqx",
        "outputId": "9643192a-6a1c-4cee-8629-dd51855af470",
        "trusted": true,
        "execution": {
          "iopub.status.busy": "2025-01-10T08:29:31.999489Z",
          "iopub.execute_input": "2025-01-10T08:29:31.999674Z",
          "iopub.status.idle": "2025-01-10T08:29:32.117729Z",
          "shell.execute_reply.started": "2025-01-10T08:29:31.999657Z",
          "shell.execute_reply": "2025-01-10T08:29:32.116888Z"
        }
      },
      "outputs": [
        {
          "output_type": "stream",
          "name": "stdout",
          "text": [
            "Training data shape: torch.Size([1520, 768]), Labels: torch.Size([1520])\n",
            "Validation data shape: torch.Size([380, 768]), Labels: torch.Size([380])\n",
            "Test data shape: torch.Size([200, 768])\n"
          ]
        }
      ],
      "execution_count": 96
    },
    {
      "cell_type": "code",
      "source": [
        "from collections import Counter\n",
        "def new_balance_classes(X, y):\n",
        "\n",
        "  # Load embeddings from .pt file\n",
        "#     embeddings = torch.load(embeddings_path)\n",
        "\n",
        "  # Count occurrences of each class\n",
        "  train_df=pd.DataFrame({\"Label\":y})\n",
        "  class_counts = Counter(train_df['Label'])\n",
        "\n",
        "\n",
        "\n",
        "  # Find the maximum count\n",
        "  max_count = max(class_counts.values())\n",
        "\n",
        "  # Create a new list for balanced data\n",
        "  label_lst = []\n",
        "  embedding_lst=[]\n",
        "\n",
        "\n",
        "  for idx, row in train_df.iterrows():\n",
        "      label = row[LABEL_VAR]\n",
        "      embedding = X[idx]  # Assuming embeddings are in the same order as DataFrame\n",
        "\n",
        "      # Add original sample\n",
        "      embedding_lst.append(embedding)  # Duplicate sample\n",
        "      label_lst.append(label)\n",
        "\n",
        "\n",
        "\n",
        "      # Duplicate samples for minority classes\n",
        "      duplicates_needed = int( (max_count - class_counts[label]) / class_counts[label])\n",
        "      for _ in range(duplicates_needed):\n",
        "          embedding_lst.append(embedding)  # Duplicate sample\n",
        "          label_lst.append(label)\n",
        "\n",
        "\n",
        "  return torch.stack(embedding_lst), np.array(label_lst)\n",
        "\n",
        "\n",
        "# # train_df.head()\n",
        "X_train,y_train=new_balance_classes(X_train,y_train)\n",
        "\n",
        "X_train = torch.tensor(X_train)\n",
        "y_train = torch.tensor(y_train)"
      ],
      "metadata": {
        "trusted": true,
        "execution": {
          "iopub.status.busy": "2025-01-10T08:29:32.118526Z",
          "iopub.execute_input": "2025-01-10T08:29:32.118743Z",
          "iopub.status.idle": "2025-01-10T08:29:32.188179Z",
          "shell.execute_reply.started": "2025-01-10T08:29:32.118723Z",
          "shell.execute_reply": "2025-01-10T08:29:32.187411Z"
        },
        "id": "2iJ2-zefEAU7"
      },
      "outputs": [],
      "execution_count": 97
    },
    {
      "cell_type": "code",
      "source": [
        "# Define the MLP model\n",
        "class MLPModel(nn.Module):\n",
        "    def __init__(self, input_dim, hidden_dim, output_dim, dropout_p=0.35):\n",
        "        \"\"\"\n",
        "        Initialize the MLP model.\n",
        "        Args:\n",
        "            input_dim (int): Dimension of the input features.\n",
        "            hidden_dim (list of int): List of dimensions for hidden layers.\n",
        "            output_dim (int): Dimension of the output layer.\n",
        "            dropout_p (float): Dropout probability.\n",
        "        \"\"\"\n",
        "        super(MLPModel, self).__init__()\n",
        "        self.fc1 = nn.Linear(input_dim, hidden_dim[0])\n",
        "        self.relu = nn.ReLU()\n",
        "        self.dropout1 = nn.Dropout(p=dropout_p)\n",
        "        self.fc2 = nn.Linear(hidden_dim[0], hidden_dim[1])\n",
        "        self.dropout2 = nn.Dropout(p=dropout_p)\n",
        "        self.fc3 = nn.Linear(hidden_dim[1], output_dim)\n",
        "        self.softmax = nn.Softmax(dim=1)\n",
        "\n",
        "    def forward(self, x):\n",
        "        x = self.relu(self.fc1(x))\n",
        "        x = self.dropout1(x)\n",
        "        x = self.relu(self.fc2(x))\n",
        "        x = self.dropout2(x)\n",
        "        x = self.fc3(x)\n",
        "        return x"
      ],
      "metadata": {
        "id": "kG2eSLEzuDQJ",
        "trusted": true,
        "execution": {
          "iopub.status.busy": "2025-01-10T08:29:32.188866Z",
          "iopub.execute_input": "2025-01-10T08:29:32.189068Z",
          "iopub.status.idle": "2025-01-10T08:29:32.194645Z",
          "shell.execute_reply.started": "2025-01-10T08:29:32.189050Z",
          "shell.execute_reply": "2025-01-10T08:29:32.193679Z"
        }
      },
      "outputs": [],
      "execution_count": 98
    },
    {
      "cell_type": "code",
      "source": [
        "# Hyperparameters\n",
        "input_dim = X_train.shape[1]\n",
        "num_classes = len(train_df[LABEL_VAR].unique())\n",
        "hidden_dim = [768, 512]  # Increased hidden layer dimensions\n",
        "output_dim = num_classes\n",
        "batch_size = 16  # Smaller batch size\n",
        "learning_rate = 0.0001  # Increased learning rate\n",
        "dropout_p = 0.35"
      ],
      "metadata": {
        "id": "mT_Yy49YuGXK",
        "trusted": true,
        "execution": {
          "iopub.status.busy": "2025-01-10T08:48:14.734822Z",
          "iopub.execute_input": "2025-01-10T08:48:14.735145Z",
          "iopub.status.idle": "2025-01-10T08:48:14.740088Z",
          "shell.execute_reply.started": "2025-01-10T08:48:14.735116Z",
          "shell.execute_reply": "2025-01-10T08:48:14.739028Z"
        }
      },
      "outputs": [],
      "execution_count": 99
    },
    {
      "cell_type": "code",
      "source": [
        "# Prepare the data loaders\n",
        "train_dataset = TensorDataset(X_train, y_train)\n",
        "val_dataset = TensorDataset(X_val, y_val)\n",
        "test_dataset = TensorDataset(X_test)\n",
        "\n",
        "train_loader = DataLoader(train_dataset, batch_size, shuffle=True)\n",
        "val_loader = DataLoader(val_dataset, batch_size)\n",
        "test_loader = DataLoader(test_dataset, batch_size)"
      ],
      "metadata": {
        "id": "nkOVzPn1uLyp",
        "trusted": true,
        "execution": {
          "iopub.status.busy": "2025-01-10T08:48:15.314918Z",
          "iopub.execute_input": "2025-01-10T08:48:15.315187Z",
          "iopub.status.idle": "2025-01-10T08:48:15.319710Z",
          "shell.execute_reply.started": "2025-01-10T08:48:15.315165Z",
          "shell.execute_reply": "2025-01-10T08:48:15.318709Z"
        }
      },
      "outputs": [],
      "execution_count": 100
    },
    {
      "cell_type": "code",
      "source": [
        "# Initialize model, loss function, and optimizer\n",
        "model = MLPModel(input_dim, hidden_dim, output_dim, dropout_p).to(device)\n",
        "criterion = nn.CrossEntropyLoss()\n",
        "optimizer = torch.optim.Adam(model.parameters(), lr=learning_rate)"
      ],
      "metadata": {
        "id": "zeI8r1aTuOWM",
        "trusted": true,
        "execution": {
          "iopub.status.busy": "2025-01-10T08:48:15.895977Z",
          "iopub.execute_input": "2025-01-10T08:48:15.896253Z",
          "iopub.status.idle": "2025-01-10T08:48:15.910220Z",
          "shell.execute_reply.started": "2025-01-10T08:48:15.896231Z",
          "shell.execute_reply": "2025-01-10T08:48:15.909360Z"
        }
      },
      "outputs": [],
      "execution_count": 101
    },
    {
      "cell_type": "code",
      "source": [
        "# Function to calculate metrics\n",
        "def calculate_metrics(preds, labels):\n",
        "    accuracy = accuracy_score(labels, preds)\n",
        "    precision, recall, f1, _ = precision_recall_fscore_support(labels, preds, average=\"macro\")\n",
        "    return accuracy, precision, recall, f1"
      ],
      "metadata": {
        "id": "bYP39h-txZOp",
        "trusted": true,
        "execution": {
          "iopub.status.busy": "2025-01-10T08:48:18.364896Z",
          "iopub.execute_input": "2025-01-10T08:48:18.365180Z",
          "iopub.status.idle": "2025-01-10T08:48:18.369231Z",
          "shell.execute_reply.started": "2025-01-10T08:48:18.365158Z",
          "shell.execute_reply": "2025-01-10T08:48:18.368235Z"
        }
      },
      "outputs": [],
      "execution_count": 102
    },
    {
      "cell_type": "code",
      "source": [
        "max_length = train_df['News'].str.len().max()\n",
        "print(f\"Maximum text length: {max_length}\")"
      ],
      "metadata": {
        "colab": {
          "base_uri": "https://localhost:8080/"
        },
        "id": "ZVaI4xlacFX-",
        "outputId": "1c265e0c-a440-407e-d752-2e01b4d9d6f4",
        "trusted": true,
        "execution": {
          "iopub.status.busy": "2025-01-10T08:48:18.908788Z",
          "iopub.execute_input": "2025-01-10T08:48:18.909031Z",
          "iopub.status.idle": "2025-01-10T08:48:18.915241Z",
          "shell.execute_reply.started": "2025-01-10T08:48:18.909007Z",
          "shell.execute_reply": "2025-01-10T08:48:18.914575Z"
        }
      },
      "outputs": [
        {
          "output_type": "stream",
          "name": "stdout",
          "text": [
            "Maximum text length: 250\n"
          ]
        }
      ],
      "execution_count": 103
    },
    {
      "cell_type": "code",
      "source": [
        "max_length = val_df['News'].str.len().mean()\n",
        "print(f\"Maximum text length: {max_length}\")"
      ],
      "metadata": {
        "trusted": true,
        "execution": {
          "iopub.status.busy": "2025-01-10T08:48:19.469652Z",
          "iopub.execute_input": "2025-01-10T08:48:19.469902Z",
          "iopub.status.idle": "2025-01-10T08:48:19.475929Z",
          "shell.execute_reply.started": "2025-01-10T08:48:19.469881Z",
          "shell.execute_reply": "2025-01-10T08:48:19.474899Z"
        },
        "colab": {
          "base_uri": "https://localhost:8080/"
        },
        "id": "dBpbTaKUEAU8",
        "outputId": "da925678-5d8f-475b-d7e3-413e0c4674b3"
      },
      "outputs": [
        {
          "output_type": "stream",
          "name": "stdout",
          "text": [
            "Maximum text length: 92.33947368421053\n"
          ]
        }
      ],
      "execution_count": 104
    },
    {
      "cell_type": "markdown",
      "source": [
        "## Train and Val"
      ],
      "metadata": {
        "id": "xCjg-mNzuZxJ"
      }
    },
    {
      "cell_type": "code",
      "source": [
        "# Train and save best model\n",
        "import torch\n",
        "import torch.nn as nn\n",
        "from sklearn.metrics import accuracy_score, precision_recall_fscore_support\n",
        "def train_and_save_best_model(model, train_loader, val_loader, criterion, optimizer, num_epochs, save_dir):\n",
        "    best_f1 = -float('inf')\n",
        "    best_model_path = None\n",
        "\n",
        "    for epoch in range(num_epochs):\n",
        "        model.train() # Indent this line. Start of the loop\n",
        "        train_loss = 0\n",
        "        all_train_preds, all_train_labels = [], []\n",
        "\n",
        "        for inputs, labels in train_loader:\n",
        "            inputs, labels = inputs.to(device), labels.to(device)\n",
        "\n",
        "            optimizer.zero_grad()\n",
        "            outputs = model(inputs) # Remove the squeeze function\n",
        "\n",
        "            #check if a single sample is passed in as a batch\n",
        "            if outputs.shape[0] == 1:\n",
        "                continue\n",
        "\n",
        "            # Compute loss and backpropagate\n",
        "            loss = criterion(outputs, labels)\n",
        "            loss.backward()\n",
        "            optimizer.step()\n",
        "\n",
        "            train_loss += loss.item()\n",
        "\n",
        "            _, preds = torch.max(outputs, dim=1)\n",
        "            all_train_preds.extend(preds.cpu().tolist())\n",
        "            all_train_labels.extend(labels.cpu().tolist())\n",
        "\n",
        "        # Calculate training metrics\n",
        "        train_accuracy, train_precision, train_recall, train_f1 = calculate_metrics(all_train_preds, all_train_labels)\n",
        "\n",
        "        # Validation phase\n",
        "        model.eval()\n",
        "        val_loss = 0\n",
        "        all_val_preds, all_val_labels = [], []\n",
        "\n",
        "        with torch.no_grad():\n",
        "            for inputs, labels in val_loader:\n",
        "                inputs, labels = inputs.to(device), labels.to(device)\n",
        "                outputs = model(inputs) # Remove the squeeze function\n",
        "                #check if a single sample is passed in as a batch\n",
        "                if outputs.shape[0] == 1:\n",
        "                    continue\n",
        "\n",
        "                loss = criterion(outputs, labels)\n",
        "                val_loss += loss.item()\n",
        "\n",
        "                _, preds = torch.max(outputs, dim=1)\n",
        "                all_val_preds.extend(preds.cpu().tolist())\n",
        "                all_val_labels.extend(labels.cpu().tolist())\n",
        "\n",
        "        # Calculate validation metrics\n",
        "        val_accuracy, val_precision, val_recall, val_f1 = calculate_metrics(all_val_preds, all_val_labels)\n",
        "\n",
        "        print(f\"Epoch {epoch+1}/{num_epochs}: Train Loss: {train_loss/len(train_loader):.4f}, \"\n",
        "              f\"Train Acc: {train_accuracy:.4f}, Prec: {train_precision:.4f}, Rec: {train_recall:.4f}, F1: {train_f1:.4f} | \"\n",
        "              f\"Val Loss: {val_loss/len(val_loader):.4f}, Val Acc: {val_accuracy:.4f}, Prec: {val_precision:.4f}, \"\n",
        "              f\"Rec: {val_recall:.4f}, F1: {val_f1:.4f}\")\n",
        "\n",
        "        # Save the model if it has the best F1 score on validation\n",
        "        if val_f1 > best_f1:\n",
        "            best_f1 = val_f1\n",
        "            best_model_path = f\"{save_dir}/best_model_epoch_{epoch + 1}_f1_{val_f1:.4f}.pth\"\n",
        "            torch.save(model.state_dict(), best_model_path)\n",
        "            print(f\"Best model saved with F1: {val_f1:.4f} at epoch {epoch + 1}\")\n",
        "\n",
        "    return best_model_path"
      ],
      "metadata": {
        "id": "1qFE7USauREx",
        "trusted": true,
        "execution": {
          "iopub.status.busy": "2025-01-10T08:48:22.227580Z",
          "iopub.execute_input": "2025-01-10T08:48:22.227867Z",
          "iopub.status.idle": "2025-01-10T08:48:22.236986Z",
          "shell.execute_reply.started": "2025-01-10T08:48:22.227844Z",
          "shell.execute_reply": "2025-01-10T08:48:22.235995Z"
        }
      },
      "outputs": [],
      "execution_count": 105
    },
    {
      "cell_type": "code",
      "source": [
        "# Set the directory where the best model will be saved\n",
        "save_dir = \"./models\"\n",
        "os.makedirs(save_dir, exist_ok=True)"
      ],
      "metadata": {
        "id": "QpEjhQXkuTYq",
        "trusted": true,
        "execution": {
          "iopub.status.busy": "2025-01-10T08:48:25.252181Z",
          "iopub.execute_input": "2025-01-10T08:48:25.252559Z",
          "iopub.status.idle": "2025-01-10T08:48:25.256996Z",
          "shell.execute_reply.started": "2025-01-10T08:48:25.252525Z",
          "shell.execute_reply": "2025-01-10T08:48:25.255865Z"
        }
      },
      "outputs": [],
      "execution_count": 106
    },
    {
      "cell_type": "code",
      "source": [
        "# Train the model and save the best model\n",
        "best_model_path = train_and_save_best_model(\n",
        "    model=model,\n",
        "    train_loader=train_loader,\n",
        "    val_loader=val_loader,\n",
        "    criterion=criterion,\n",
        "    optimizer=optimizer,\n",
        "    num_epochs=50,\n",
        "    save_dir=save_dir\n",
        ")\n",
        "\n",
        "print(f\"Best model saved at: {best_model_path}\")"
      ],
      "metadata": {
        "colab": {
          "base_uri": "https://localhost:8080/"
        },
        "id": "UI2TuU_nxehv",
        "outputId": "31aca528-40c1-4443-f082-ae7a360a4416",
        "trusted": true,
        "execution": {
          "iopub.status.busy": "2025-01-10T08:49:03.981520Z",
          "iopub.execute_input": "2025-01-10T08:49:03.981792Z",
          "iopub.status.idle": "2025-01-10T08:54:24.498392Z",
          "shell.execute_reply.started": "2025-01-10T08:49:03.981771Z",
          "shell.execute_reply": "2025-01-10T08:54:24.497447Z"
        }
      },
      "outputs": [
        {
          "output_type": "stream",
          "name": "stdout",
          "text": [
            "Epoch 1/50: Train Loss: 1.5250, Train Acc: 0.3341, Prec: 0.2923, Rec: 0.3303, F1: 0.2667 | Val Loss: 1.4116, Val Acc: 0.4842, Prec: 0.2685, Rec: 0.3349, F1: 0.2469\n",
            "Best model saved with F1: 0.2469 at epoch 1\n",
            "Epoch 2/50: Train Loss: 1.4096, Train Acc: 0.4006, Prec: 0.3645, Rec: 0.3981, F1: 0.3462 | Val Loss: 1.4171, Val Acc: 0.4395, Prec: 0.2234, Rec: 0.3131, F1: 0.2272\n",
            "Epoch 3/50: Train Loss: 1.3361, Train Acc: 0.4496, Prec: 0.4256, Rec: 0.4472, F1: 0.4046 | Val Loss: 1.4185, Val Acc: 0.4158, Prec: 0.2587, Rec: 0.3335, F1: 0.2417\n",
            "Epoch 4/50: Train Loss: 1.2616, Train Acc: 0.4845, Prec: 0.4594, Rec: 0.4824, F1: 0.4477 | Val Loss: 1.3946, Val Acc: 0.4316, Prec: 0.2421, Rec: 0.3306, F1: 0.2383\n",
            "Epoch 5/50: Train Loss: 1.1929, Train Acc: 0.5074, Prec: 0.4846, Rec: 0.5049, F1: 0.4730 | Val Loss: 1.3659, Val Acc: 0.4316, Prec: 0.2720, Rec: 0.3515, F1: 0.2686\n",
            "Best model saved with F1: 0.2686 at epoch 5\n",
            "Epoch 6/50: Train Loss: 1.1400, Train Acc: 0.5345, Prec: 0.5116, Rec: 0.5325, F1: 0.5063 | Val Loss: 1.3836, Val Acc: 0.3816, Prec: 0.2594, Rec: 0.3185, F1: 0.2492\n",
            "Epoch 7/50: Train Loss: 1.0953, Train Acc: 0.5494, Prec: 0.5254, Rec: 0.5478, F1: 0.5221 | Val Loss: 1.3146, Val Acc: 0.4658, Prec: 0.2972, Rec: 0.3487, F1: 0.2949\n",
            "Best model saved with F1: 0.2949 at epoch 7\n",
            "Epoch 8/50: Train Loss: 1.0422, Train Acc: 0.5752, Prec: 0.5515, Rec: 0.5734, F1: 0.5501 | Val Loss: 1.4499, Val Acc: 0.3632, Prec: 0.2530, Rec: 0.3275, F1: 0.2434\n",
            "Epoch 9/50: Train Loss: 1.0112, Train Acc: 0.5847, Prec: 0.5607, Rec: 0.5829, F1: 0.5605 | Val Loss: 1.3114, Val Acc: 0.4632, Prec: 0.2716, Rec: 0.3307, F1: 0.2761\n",
            "Epoch 10/50: Train Loss: 0.9724, Train Acc: 0.5977, Prec: 0.5744, Rec: 0.5961, F1: 0.5766 | Val Loss: 1.3919, Val Acc: 0.4211, Prec: 0.2650, Rec: 0.3054, F1: 0.2536\n",
            "Epoch 11/50: Train Loss: 0.9439, Train Acc: 0.6047, Prec: 0.5826, Rec: 0.6031, F1: 0.5849 | Val Loss: 1.3813, Val Acc: 0.4421, Prec: 0.2779, Rec: 0.3239, F1: 0.2747\n",
            "Epoch 12/50: Train Loss: 0.9194, Train Acc: 0.6180, Prec: 0.5977, Rec: 0.6168, F1: 0.6001 | Val Loss: 1.3536, Val Acc: 0.4474, Prec: 0.2754, Rec: 0.3085, F1: 0.2629\n",
            "Epoch 13/50: Train Loss: 0.8908, Train Acc: 0.6233, Prec: 0.6052, Rec: 0.6221, F1: 0.6066 | Val Loss: 1.3369, Val Acc: 0.4737, Prec: 0.2849, Rec: 0.3187, F1: 0.2873\n",
            "Epoch 14/50: Train Loss: 0.8724, Train Acc: 0.6311, Prec: 0.6127, Rec: 0.6298, F1: 0.6153 | Val Loss: 1.3617, Val Acc: 0.4737, Prec: 0.2931, Rec: 0.3417, F1: 0.2936\n",
            "Epoch 15/50: Train Loss: 0.8444, Train Acc: 0.6462, Prec: 0.6301, Rec: 0.6454, F1: 0.6308 | Val Loss: 1.3947, Val Acc: 0.4711, Prec: 0.3202, Rec: 0.3789, F1: 0.3222\n",
            "Best model saved with F1: 0.3222 at epoch 15\n",
            "Epoch 16/50: Train Loss: 0.8238, Train Acc: 0.6553, Prec: 0.6397, Rec: 0.6547, F1: 0.6414 | Val Loss: 1.3866, Val Acc: 0.4658, Prec: 0.3038, Rec: 0.3441, F1: 0.3055\n",
            "Epoch 17/50: Train Loss: 0.8025, Train Acc: 0.6665, Prec: 0.6515, Rec: 0.6659, F1: 0.6540 | Val Loss: 1.3443, Val Acc: 0.4868, Prec: 0.2980, Rec: 0.3348, F1: 0.3041\n",
            "Epoch 18/50: Train Loss: 0.7869, Train Acc: 0.6693, Prec: 0.6565, Rec: 0.6688, F1: 0.6585 | Val Loss: 1.3586, Val Acc: 0.4816, Prec: 0.3061, Rec: 0.3483, F1: 0.3069\n",
            "Epoch 19/50: Train Loss: 0.7709, Train Acc: 0.6790, Prec: 0.6660, Rec: 0.6788, F1: 0.6671 | Val Loss: 1.4828, Val Acc: 0.4079, Prec: 0.2886, Rec: 0.3246, F1: 0.2757\n",
            "Epoch 20/50: Train Loss: 0.7555, Train Acc: 0.6814, Prec: 0.6672, Rec: 0.6814, F1: 0.6697 | Val Loss: 1.3376, Val Acc: 0.5158, Prec: 0.3068, Rec: 0.3309, F1: 0.3099\n",
            "Epoch 21/50: Train Loss: 0.7340, Train Acc: 0.6926, Prec: 0.6791, Rec: 0.6926, F1: 0.6807 | Val Loss: 1.3993, Val Acc: 0.5026, Prec: 0.3079, Rec: 0.3461, F1: 0.3090\n",
            "Epoch 22/50: Train Loss: 0.7190, Train Acc: 0.7004, Prec: 0.6891, Rec: 0.7003, F1: 0.6902 | Val Loss: 1.4352, Val Acc: 0.4737, Prec: 0.2987, Rec: 0.3320, F1: 0.2953\n",
            "Epoch 23/50: Train Loss: 0.7016, Train Acc: 0.7087, Prec: 0.6974, Rec: 0.7090, F1: 0.6994 | Val Loss: 1.4074, Val Acc: 0.4711, Prec: 0.2802, Rec: 0.3127, F1: 0.2827\n",
            "Epoch 24/50: Train Loss: 0.6847, Train Acc: 0.7197, Prec: 0.7094, Rec: 0.7198, F1: 0.7111 | Val Loss: 1.4815, Val Acc: 0.5053, Prec: 0.3256, Rec: 0.3699, F1: 0.3197\n",
            "Epoch 25/50: Train Loss: 0.6746, Train Acc: 0.7222, Prec: 0.7121, Rec: 0.7225, F1: 0.7141 | Val Loss: 1.4661, Val Acc: 0.4868, Prec: 0.3212, Rec: 0.3693, F1: 0.3235\n",
            "Best model saved with F1: 0.3235 at epoch 25\n",
            "Epoch 26/50: Train Loss: 0.6619, Train Acc: 0.7275, Prec: 0.7179, Rec: 0.7279, F1: 0.7192 | Val Loss: 1.4392, Val Acc: 0.4921, Prec: 0.3004, Rec: 0.3366, F1: 0.3025\n",
            "Epoch 27/50: Train Loss: 0.6490, Train Acc: 0.7309, Prec: 0.7210, Rec: 0.7314, F1: 0.7229 | Val Loss: 1.5074, Val Acc: 0.4632, Prec: 0.3032, Rec: 0.3390, F1: 0.2995\n",
            "Epoch 28/50: Train Loss: 0.6335, Train Acc: 0.7447, Prec: 0.7370, Rec: 0.7451, F1: 0.7379 | Val Loss: 1.4478, Val Acc: 0.4842, Prec: 0.3038, Rec: 0.3375, F1: 0.3055\n",
            "Epoch 29/50: Train Loss: 0.6170, Train Acc: 0.7487, Prec: 0.7409, Rec: 0.7492, F1: 0.7416 | Val Loss: 1.4672, Val Acc: 0.5053, Prec: 0.3122, Rec: 0.3378, F1: 0.3177\n",
            "Epoch 30/50: Train Loss: 0.6070, Train Acc: 0.7555, Prec: 0.7479, Rec: 0.7560, F1: 0.7492 | Val Loss: 1.5289, Val Acc: 0.4842, Prec: 0.2908, Rec: 0.3355, F1: 0.2919\n",
            "Epoch 31/50: Train Loss: 0.5971, Train Acc: 0.7557, Prec: 0.7481, Rec: 0.7561, F1: 0.7491 | Val Loss: 1.5809, Val Acc: 0.4500, Prec: 0.2850, Rec: 0.3194, F1: 0.2828\n",
            "Epoch 32/50: Train Loss: 0.5829, Train Acc: 0.7633, Prec: 0.7562, Rec: 0.7639, F1: 0.7575 | Val Loss: 1.5284, Val Acc: 0.4974, Prec: 0.3025, Rec: 0.3364, F1: 0.3057\n",
            "Epoch 33/50: Train Loss: 0.5737, Train Acc: 0.7680, Prec: 0.7616, Rec: 0.7685, F1: 0.7627 | Val Loss: 1.4818, Val Acc: 0.5289, Prec: 0.3262, Rec: 0.3584, F1: 0.3346\n",
            "Best model saved with F1: 0.3346 at epoch 33\n",
            "Epoch 34/50: Train Loss: 0.5673, Train Acc: 0.7773, Prec: 0.7717, Rec: 0.7782, F1: 0.7722 | Val Loss: 1.5152, Val Acc: 0.5211, Prec: 0.3155, Rec: 0.3482, F1: 0.3237\n",
            "Epoch 35/50: Train Loss: 0.5519, Train Acc: 0.7729, Prec: 0.7666, Rec: 0.7736, F1: 0.7675 | Val Loss: 1.4920, Val Acc: 0.5289, Prec: 0.3216, Rec: 0.3516, F1: 0.3282\n",
            "Epoch 36/50: Train Loss: 0.5445, Train Acc: 0.7841, Prec: 0.7780, Rec: 0.7849, F1: 0.7791 | Val Loss: 1.5810, Val Acc: 0.5132, Prec: 0.3307, Rec: 0.3625, F1: 0.3300\n",
            "Epoch 37/50: Train Loss: 0.5347, Train Acc: 0.7841, Prec: 0.7790, Rec: 0.7849, F1: 0.7795 | Val Loss: 1.6010, Val Acc: 0.4947, Prec: 0.3061, Rec: 0.3436, F1: 0.3111\n",
            "Epoch 38/50: Train Loss: 0.5148, Train Acc: 0.7998, Prec: 0.7954, Rec: 0.8006, F1: 0.7958 | Val Loss: 1.6382, Val Acc: 0.4711, Prec: 0.3197, Rec: 0.3612, F1: 0.3218\n",
            "Epoch 39/50: Train Loss: 0.5094, Train Acc: 0.8036, Prec: 0.7993, Rec: 0.8044, F1: 0.7997 | Val Loss: 1.5951, Val Acc: 0.5158, Prec: 0.3120, Rec: 0.3499, F1: 0.3150\n",
            "Epoch 40/50: Train Loss: 0.4976, Train Acc: 0.8057, Prec: 0.8018, Rec: 0.8065, F1: 0.8019 | Val Loss: 1.7080, Val Acc: 0.4789, Prec: 0.3220, Rec: 0.3718, F1: 0.3275\n",
            "Epoch 41/50: Train Loss: 0.4849, Train Acc: 0.8097, Prec: 0.8053, Rec: 0.8107, F1: 0.8058 | Val Loss: 1.6614, Val Acc: 0.5263, Prec: 0.3332, Rec: 0.3681, F1: 0.3362\n",
            "Best model saved with F1: 0.3362 at epoch 41\n",
            "Epoch 42/50: Train Loss: 0.4849, Train Acc: 0.8081, Prec: 0.8031, Rec: 0.8090, F1: 0.8043 | Val Loss: 1.6170, Val Acc: 0.5368, Prec: 0.3424, Rec: 0.3792, F1: 0.3500\n",
            "Best model saved with F1: 0.3500 at epoch 42\n",
            "Epoch 43/50: Train Loss: 0.4725, Train Acc: 0.8144, Prec: 0.8107, Rec: 0.8153, F1: 0.8111 | Val Loss: 1.5984, Val Acc: 0.5737, Prec: 0.3490, Rec: 0.3785, F1: 0.3568\n",
            "Best model saved with F1: 0.3568 at epoch 43\n",
            "Epoch 44/50: Train Loss: 0.4634, Train Acc: 0.8206, Prec: 0.8168, Rec: 0.8214, F1: 0.8175 | Val Loss: 1.7163, Val Acc: 0.5079, Prec: 0.3241, Rec: 0.3609, F1: 0.3229\n",
            "Epoch 45/50: Train Loss: 0.4596, Train Acc: 0.8169, Prec: 0.8137, Rec: 0.8179, F1: 0.8138 | Val Loss: 1.6539, Val Acc: 0.5474, Prec: 0.3278, Rec: 0.3456, F1: 0.3334\n",
            "Epoch 46/50: Train Loss: 0.4419, Train Acc: 0.8307, Prec: 0.8281, Rec: 0.8315, F1: 0.8282 | Val Loss: 1.6356, Val Acc: 0.5816, Prec: 0.3524, Rec: 0.3756, F1: 0.3571\n",
            "Best model saved with F1: 0.3571 at epoch 46\n",
            "Epoch 47/50: Train Loss: 0.4418, Train Acc: 0.8288, Prec: 0.8264, Rec: 0.8297, F1: 0.8263 | Val Loss: 1.6239, Val Acc: 0.5921, Prec: 0.3550, Rec: 0.3755, F1: 0.3625\n",
            "Best model saved with F1: 0.3625 at epoch 47\n",
            "Epoch 48/50: Train Loss: 0.4316, Train Acc: 0.8326, Prec: 0.8304, Rec: 0.8334, F1: 0.8302 | Val Loss: 1.7423, Val Acc: 0.5289, Prec: 0.3447, Rec: 0.3819, F1: 0.3530\n",
            "Epoch 49/50: Train Loss: 0.4220, Train Acc: 0.8417, Prec: 0.8397, Rec: 0.8427, F1: 0.8395 | Val Loss: 1.7280, Val Acc: 0.5237, Prec: 0.3365, Rec: 0.3645, F1: 0.3411\n",
            "Epoch 50/50: Train Loss: 0.4183, Train Acc: 0.8409, Prec: 0.8381, Rec: 0.8418, F1: 0.8382 | Val Loss: 1.6816, Val Acc: 0.5605, Prec: 0.3200, Rec: 0.3458, F1: 0.3239\n",
            "Best model saved at: ./models/best_model_epoch_47_f1_0.3625.pth\n"
          ]
        }
      ],
      "execution_count": 107
    },
    {
      "cell_type": "markdown",
      "source": [
        "## Test"
      ],
      "metadata": {
        "id": "tQI1YtBouXDZ"
      }
    },
    {
      "cell_type": "code",
      "source": [
        "def predict_and_generate_submission(test_loader, best_model_path, submission_file_path):\n",
        "    # Load the best model with weights_only=True to avoid security warnings\n",
        "    model = MLPModel(input_dim, hidden_dim, output_dim, dropout_p).to(device)\n",
        "    model.load_state_dict(torch.load(best_model_path, weights_only=True))\n",
        "    model.eval()  # Set the model to evaluation mode\n",
        "\n",
        "    test_predictions = []\n",
        "    with torch.no_grad():\n",
        "        for inputs in test_loader:\n",
        "            # Ensure inputs are converted to a tensor and stacked into a batch if necessary\n",
        "            if isinstance(inputs, list):\n",
        "                # Convert each item to tensor using .detach() to avoid the user warning\n",
        "                inputs = [i.clone().detach().to(device) if isinstance(i, torch.Tensor) else torch.tensor(i).to(device) for i in inputs]\n",
        "                inputs = torch.stack(inputs)  # Stack them into a batch tensor\n",
        "            else:\n",
        "                inputs = inputs.to(device)  # If inputs is already a tensor, move it to device\n",
        "\n",
        "            outputs = model(inputs).squeeze()\n",
        "\n",
        "            # Predict binary labels\n",
        "            _, preds = torch.max(outputs, dim=1)\n",
        "            test_predictions.extend(preds.tolist())\n",
        "\n",
        "    # Prepare the submission DataFrame\n",
        "    submission_df = pd.DataFrame({\n",
        "        TEXT_VAR: [i for i in test_df[TEXT_VAR]],\n",
        "        'predictions': test_predictions\n",
        "    })\n",
        "\n",
        "    # Save the predictions to a CSV file\n",
        "    submission_df.to_csv(submission_file_path, index=False)\n",
        "    print(f\"Submission file saved to {submission_file_path}\")\n",
        "\n",
        "    return submission_df"
      ],
      "metadata": {
        "id": "0-tQuWKjuWVC",
        "trusted": true,
        "execution": {
          "iopub.status.busy": "2025-01-10T08:54:38.214407Z",
          "iopub.execute_input": "2025-01-10T08:54:38.214723Z",
          "iopub.status.idle": "2025-01-10T08:54:38.221107Z",
          "shell.execute_reply.started": "2025-01-10T08:54:38.214688Z",
          "shell.execute_reply": "2025-01-10T08:54:38.220081Z"
        }
      },
      "outputs": [],
      "execution_count": 108
    },
    {
      "cell_type": "code",
      "source": [
        "submission_file_path = \"submission.csv\"\n",
        "submission_df = predict_and_generate_submission(test_loader=test_loader, best_model_path=best_model_path, submission_file_path=submission_file_path)"
      ],
      "metadata": {
        "colab": {
          "base_uri": "https://localhost:8080/"
        },
        "id": "LmRfUjoxxyzA",
        "outputId": "c41e9f0a-beb7-4e1b-b50d-477400c7297b",
        "trusted": true,
        "execution": {
          "iopub.status.busy": "2025-01-10T08:54:42.548476Z",
          "iopub.execute_input": "2025-01-10T08:54:42.548761Z",
          "iopub.status.idle": "2025-01-10T08:54:42.578032Z",
          "shell.execute_reply.started": "2025-01-10T08:54:42.548738Z",
          "shell.execute_reply": "2025-01-10T08:54:42.577372Z"
        }
      },
      "outputs": [
        {
          "output_type": "stream",
          "name": "stdout",
          "text": [
            "Submission file saved to submission.csv\n"
          ]
        }
      ],
      "execution_count": 109
    },
    {
      "cell_type": "code",
      "source": [
        "submission_df.head()"
      ],
      "metadata": {
        "colab": {
          "base_uri": "https://localhost:8080/",
          "height": 206
        },
        "id": "nMKXQNe6yamA",
        "outputId": "f5299b9b-1ed5-43a0-8fba-c2495ff0813d",
        "trusted": true,
        "execution": {
          "iopub.status.busy": "2025-01-10T08:54:45.815502Z",
          "iopub.execute_input": "2025-01-10T08:54:45.815784Z",
          "iopub.status.idle": "2025-01-10T08:54:45.823371Z",
          "shell.execute_reply.started": "2025-01-10T08:54:45.815763Z",
          "shell.execute_reply": "2025-01-10T08:54:45.822523Z"
        }
      },
      "outputs": [
        {
          "output_type": "execute_result",
          "data": {
            "text/plain": [
              "                                                News  predictions\n",
              "0  കേരളത്തില്‍ പുരുഷന്മാര്‍ക്ക് രണ്ട് ഭാര്യമാര്‍ ...            3\n",
              "1  പാർട്ടിയുടെ കൊടിക്ക് മഹത്വം ഉണ്ടെന്നും സംരംഭങ്...            4\n",
              "2  നവകേരള സദസ്സ്: കാട്ടാക്കട ക്രിസ്ത്യൻ കോളേജ് കവ...            4\n",
              "3  ശബരിമലയില്‍ അയ്യപ്പ ഭക്തന്‍റെ തല പോലീസ് അടിച്ച...            2\n",
              "4  ബൈക്കുകള്‍ സ്വന്തം ജില്ലയില്‍ മാത്രം ഉപയോഗിക്ക...            2"
            ],
            "text/html": [
              "\n",
              "  <div id=\"df-cd5daf93-af2b-43ad-b0a7-472663f7d710\" class=\"colab-df-container\">\n",
              "    <div>\n",
              "<style scoped>\n",
              "    .dataframe tbody tr th:only-of-type {\n",
              "        vertical-align: middle;\n",
              "    }\n",
              "\n",
              "    .dataframe tbody tr th {\n",
              "        vertical-align: top;\n",
              "    }\n",
              "\n",
              "    .dataframe thead th {\n",
              "        text-align: right;\n",
              "    }\n",
              "</style>\n",
              "<table border=\"1\" class=\"dataframe\">\n",
              "  <thead>\n",
              "    <tr style=\"text-align: right;\">\n",
              "      <th></th>\n",
              "      <th>News</th>\n",
              "      <th>predictions</th>\n",
              "    </tr>\n",
              "  </thead>\n",
              "  <tbody>\n",
              "    <tr>\n",
              "      <th>0</th>\n",
              "      <td>കേരളത്തില്‍ പുരുഷന്മാര്‍ക്ക് രണ്ട് ഭാര്യമാര്‍ ...</td>\n",
              "      <td>3</td>\n",
              "    </tr>\n",
              "    <tr>\n",
              "      <th>1</th>\n",
              "      <td>പാർട്ടിയുടെ കൊടിക്ക് മഹത്വം ഉണ്ടെന്നും സംരംഭങ്...</td>\n",
              "      <td>4</td>\n",
              "    </tr>\n",
              "    <tr>\n",
              "      <th>2</th>\n",
              "      <td>നവകേരള സദസ്സ്: കാട്ടാക്കട ക്രിസ്ത്യൻ കോളേജ് കവ...</td>\n",
              "      <td>4</td>\n",
              "    </tr>\n",
              "    <tr>\n",
              "      <th>3</th>\n",
              "      <td>ശബരിമലയില്‍ അയ്യപ്പ ഭക്തന്‍റെ തല പോലീസ് അടിച്ച...</td>\n",
              "      <td>2</td>\n",
              "    </tr>\n",
              "    <tr>\n",
              "      <th>4</th>\n",
              "      <td>ബൈക്കുകള്‍ സ്വന്തം ജില്ലയില്‍ മാത്രം ഉപയോഗിക്ക...</td>\n",
              "      <td>2</td>\n",
              "    </tr>\n",
              "  </tbody>\n",
              "</table>\n",
              "</div>\n",
              "    <div class=\"colab-df-buttons\">\n",
              "\n",
              "  <div class=\"colab-df-container\">\n",
              "    <button class=\"colab-df-convert\" onclick=\"convertToInteractive('df-cd5daf93-af2b-43ad-b0a7-472663f7d710')\"\n",
              "            title=\"Convert this dataframe to an interactive table.\"\n",
              "            style=\"display:none;\">\n",
              "\n",
              "  <svg xmlns=\"http://www.w3.org/2000/svg\" height=\"24px\" viewBox=\"0 -960 960 960\">\n",
              "    <path d=\"M120-120v-720h720v720H120Zm60-500h600v-160H180v160Zm220 220h160v-160H400v160Zm0 220h160v-160H400v160ZM180-400h160v-160H180v160Zm440 0h160v-160H620v160ZM180-180h160v-160H180v160Zm440 0h160v-160H620v160Z\"/>\n",
              "  </svg>\n",
              "    </button>\n",
              "\n",
              "  <style>\n",
              "    .colab-df-container {\n",
              "      display:flex;\n",
              "      gap: 12px;\n",
              "    }\n",
              "\n",
              "    .colab-df-convert {\n",
              "      background-color: #E8F0FE;\n",
              "      border: none;\n",
              "      border-radius: 50%;\n",
              "      cursor: pointer;\n",
              "      display: none;\n",
              "      fill: #1967D2;\n",
              "      height: 32px;\n",
              "      padding: 0 0 0 0;\n",
              "      width: 32px;\n",
              "    }\n",
              "\n",
              "    .colab-df-convert:hover {\n",
              "      background-color: #E2EBFA;\n",
              "      box-shadow: 0px 1px 2px rgba(60, 64, 67, 0.3), 0px 1px 3px 1px rgba(60, 64, 67, 0.15);\n",
              "      fill: #174EA6;\n",
              "    }\n",
              "\n",
              "    .colab-df-buttons div {\n",
              "      margin-bottom: 4px;\n",
              "    }\n",
              "\n",
              "    [theme=dark] .colab-df-convert {\n",
              "      background-color: #3B4455;\n",
              "      fill: #D2E3FC;\n",
              "    }\n",
              "\n",
              "    [theme=dark] .colab-df-convert:hover {\n",
              "      background-color: #434B5C;\n",
              "      box-shadow: 0px 1px 3px 1px rgba(0, 0, 0, 0.15);\n",
              "      filter: drop-shadow(0px 1px 2px rgba(0, 0, 0, 0.3));\n",
              "      fill: #FFFFFF;\n",
              "    }\n",
              "  </style>\n",
              "\n",
              "    <script>\n",
              "      const buttonEl =\n",
              "        document.querySelector('#df-cd5daf93-af2b-43ad-b0a7-472663f7d710 button.colab-df-convert');\n",
              "      buttonEl.style.display =\n",
              "        google.colab.kernel.accessAllowed ? 'block' : 'none';\n",
              "\n",
              "      async function convertToInteractive(key) {\n",
              "        const element = document.querySelector('#df-cd5daf93-af2b-43ad-b0a7-472663f7d710');\n",
              "        const dataTable =\n",
              "          await google.colab.kernel.invokeFunction('convertToInteractive',\n",
              "                                                    [key], {});\n",
              "        if (!dataTable) return;\n",
              "\n",
              "        const docLinkHtml = 'Like what you see? Visit the ' +\n",
              "          '<a target=\"_blank\" href=https://colab.research.google.com/notebooks/data_table.ipynb>data table notebook</a>'\n",
              "          + ' to learn more about interactive tables.';\n",
              "        element.innerHTML = '';\n",
              "        dataTable['output_type'] = 'display_data';\n",
              "        await google.colab.output.renderOutput(dataTable, element);\n",
              "        const docLink = document.createElement('div');\n",
              "        docLink.innerHTML = docLinkHtml;\n",
              "        element.appendChild(docLink);\n",
              "      }\n",
              "    </script>\n",
              "  </div>\n",
              "\n",
              "\n",
              "<div id=\"df-8da70b5b-79b7-4c8c-b6ca-8d012393898a\">\n",
              "  <button class=\"colab-df-quickchart\" onclick=\"quickchart('df-8da70b5b-79b7-4c8c-b6ca-8d012393898a')\"\n",
              "            title=\"Suggest charts\"\n",
              "            style=\"display:none;\">\n",
              "\n",
              "<svg xmlns=\"http://www.w3.org/2000/svg\" height=\"24px\"viewBox=\"0 0 24 24\"\n",
              "     width=\"24px\">\n",
              "    <g>\n",
              "        <path d=\"M19 3H5c-1.1 0-2 .9-2 2v14c0 1.1.9 2 2 2h14c1.1 0 2-.9 2-2V5c0-1.1-.9-2-2-2zM9 17H7v-7h2v7zm4 0h-2V7h2v10zm4 0h-2v-4h2v4z\"/>\n",
              "    </g>\n",
              "</svg>\n",
              "  </button>\n",
              "\n",
              "<style>\n",
              "  .colab-df-quickchart {\n",
              "      --bg-color: #E8F0FE;\n",
              "      --fill-color: #1967D2;\n",
              "      --hover-bg-color: #E2EBFA;\n",
              "      --hover-fill-color: #174EA6;\n",
              "      --disabled-fill-color: #AAA;\n",
              "      --disabled-bg-color: #DDD;\n",
              "  }\n",
              "\n",
              "  [theme=dark] .colab-df-quickchart {\n",
              "      --bg-color: #3B4455;\n",
              "      --fill-color: #D2E3FC;\n",
              "      --hover-bg-color: #434B5C;\n",
              "      --hover-fill-color: #FFFFFF;\n",
              "      --disabled-bg-color: #3B4455;\n",
              "      --disabled-fill-color: #666;\n",
              "  }\n",
              "\n",
              "  .colab-df-quickchart {\n",
              "    background-color: var(--bg-color);\n",
              "    border: none;\n",
              "    border-radius: 50%;\n",
              "    cursor: pointer;\n",
              "    display: none;\n",
              "    fill: var(--fill-color);\n",
              "    height: 32px;\n",
              "    padding: 0;\n",
              "    width: 32px;\n",
              "  }\n",
              "\n",
              "  .colab-df-quickchart:hover {\n",
              "    background-color: var(--hover-bg-color);\n",
              "    box-shadow: 0 1px 2px rgba(60, 64, 67, 0.3), 0 1px 3px 1px rgba(60, 64, 67, 0.15);\n",
              "    fill: var(--button-hover-fill-color);\n",
              "  }\n",
              "\n",
              "  .colab-df-quickchart-complete:disabled,\n",
              "  .colab-df-quickchart-complete:disabled:hover {\n",
              "    background-color: var(--disabled-bg-color);\n",
              "    fill: var(--disabled-fill-color);\n",
              "    box-shadow: none;\n",
              "  }\n",
              "\n",
              "  .colab-df-spinner {\n",
              "    border: 2px solid var(--fill-color);\n",
              "    border-color: transparent;\n",
              "    border-bottom-color: var(--fill-color);\n",
              "    animation:\n",
              "      spin 1s steps(1) infinite;\n",
              "  }\n",
              "\n",
              "  @keyframes spin {\n",
              "    0% {\n",
              "      border-color: transparent;\n",
              "      border-bottom-color: var(--fill-color);\n",
              "      border-left-color: var(--fill-color);\n",
              "    }\n",
              "    20% {\n",
              "      border-color: transparent;\n",
              "      border-left-color: var(--fill-color);\n",
              "      border-top-color: var(--fill-color);\n",
              "    }\n",
              "    30% {\n",
              "      border-color: transparent;\n",
              "      border-left-color: var(--fill-color);\n",
              "      border-top-color: var(--fill-color);\n",
              "      border-right-color: var(--fill-color);\n",
              "    }\n",
              "    40% {\n",
              "      border-color: transparent;\n",
              "      border-right-color: var(--fill-color);\n",
              "      border-top-color: var(--fill-color);\n",
              "    }\n",
              "    60% {\n",
              "      border-color: transparent;\n",
              "      border-right-color: var(--fill-color);\n",
              "    }\n",
              "    80% {\n",
              "      border-color: transparent;\n",
              "      border-right-color: var(--fill-color);\n",
              "      border-bottom-color: var(--fill-color);\n",
              "    }\n",
              "    90% {\n",
              "      border-color: transparent;\n",
              "      border-bottom-color: var(--fill-color);\n",
              "    }\n",
              "  }\n",
              "</style>\n",
              "\n",
              "  <script>\n",
              "    async function quickchart(key) {\n",
              "      const quickchartButtonEl =\n",
              "        document.querySelector('#' + key + ' button');\n",
              "      quickchartButtonEl.disabled = true;  // To prevent multiple clicks.\n",
              "      quickchartButtonEl.classList.add('colab-df-spinner');\n",
              "      try {\n",
              "        const charts = await google.colab.kernel.invokeFunction(\n",
              "            'suggestCharts', [key], {});\n",
              "      } catch (error) {\n",
              "        console.error('Error during call to suggestCharts:', error);\n",
              "      }\n",
              "      quickchartButtonEl.classList.remove('colab-df-spinner');\n",
              "      quickchartButtonEl.classList.add('colab-df-quickchart-complete');\n",
              "    }\n",
              "    (() => {\n",
              "      let quickchartButtonEl =\n",
              "        document.querySelector('#df-8da70b5b-79b7-4c8c-b6ca-8d012393898a button');\n",
              "      quickchartButtonEl.style.display =\n",
              "        google.colab.kernel.accessAllowed ? 'block' : 'none';\n",
              "    })();\n",
              "  </script>\n",
              "</div>\n",
              "\n",
              "    </div>\n",
              "  </div>\n"
            ],
            "application/vnd.google.colaboratory.intrinsic+json": {
              "type": "dataframe",
              "variable_name": "submission_df",
              "summary": "{\n  \"name\": \"submission_df\",\n  \"rows\": 200,\n  \"fields\": [\n    {\n      \"column\": \"News\",\n      \"properties\": {\n        \"dtype\": \"string\",\n        \"num_unique_values\": 200,\n        \"samples\": [\n          \"\\u0d15\\u0d46.\\u0d38\\u0d41\\u0d27\\u0d3e\\u0d15\\u0d30\\u0d28\\u0d4d\\u200d \\u0d1c\\u0d46\\u0d2c\\u0d3f \\u0d2e\\u0d47\\u0d24\\u0d4d\\u0d24\\u0d30\\u0d4d\\u200d \\u0d0e\\u0d02\\u0d2a\\u0d3f\\u0d2f\\u0d4b\\u0d1f\\u0d4a\\u0d2a\\u0d4d\\u0d2a\\u0d02 \\u0d35\\u0d47\\u0d33\\u0d4d\\u200d\\u0d21\\u0d4d \\u0d1f\\u0d42\\u0d31\\u0d3f\\u0d28\\u0d4d \\u0d2a\\u0d4b\\u0d15\\u0d41\\u0d28\\u0d4d\\u0d28\\u0d41\",\n          \"\\u0d2e\\u0d1e\\u0d4d\\u0d1a\\u0d47\\u0d36\\u0d4d\\u0d35\\u0d30\\u0d02 \\u0d0e\\u0d02\\u0d0e\\u0d7d\\u0d0e \\u0d15\\u0d46 \\u0d0e\\u0d02 \\u0d0e \\u0d05\\u0d37\\u0d4d\\u0d31\\u0d2b\\u0d4d \\u0d06\\u0d7c\\u0d0e\\u0d38\\u0d4d\\u0d0e\\u0d38\\u0d4d \\u0d2a\\u0d30\\u0d3f\\u0d2a\\u0d3e\\u0d1f\\u0d3f\\u0d2f\\u0d3f\\u0d7d \\u0d2a\\u0d19\\u0d4d\\u0d15\\u0d46\\u0d1f\\u0d41\\u0d24\\u0d4d\\u0d24\\u0d41\",\n          \"\\u0d2c\\u0d3e\\u0d28\\u0d4d\\u0d26\\u0d4d\\u0d30-\\u0d35\\u0d7c\\u0d33\\u0d3f \\u0d38\\u0d40 \\u0d32\\u0d3f\\u0d19\\u0d4d\\u0d15\\u0d4d \\u0d28\\u0d3f\\u0d7c\\u0d2e\\u0d4d\\u0d2e\\u0d3f\\u0d1a\\u0d4d\\u0d1a\\u0d24\\u0d4d \\u0d2a\\u0d4d\\u0d30\\u0d27\\u0d3e\\u0d28\\u0d2e\\u0d28\\u0d4d\\u0d24\\u0d4d\\u0d30\\u0d3f \\u0d28\\u0d30\\u0d47\\u0d28\\u0d4d\\u0d26\\u0d4d\\u0d30 \\u0d2e\\u0d4b\\u0d26\\u0d3f\\u0d2f\\u0d41\\u0d1f\\u0d46 \\u0d15\\u0d3e\\u0d32\\u0d24\\u0d4d\\u0d24\\u0d4d\"\n        ],\n        \"semantic_type\": \"\",\n        \"description\": \"\"\n      }\n    },\n    {\n      \"column\": \"predictions\",\n      \"properties\": {\n        \"dtype\": \"number\",\n        \"std\": 1,\n        \"min\": 0,\n        \"max\": 4,\n        \"num_unique_values\": 5,\n        \"samples\": [\n          4,\n          1,\n          2\n        ],\n        \"semantic_type\": \"\",\n        \"description\": \"\"\n      }\n    }\n  ]\n}"
            }
          },
          "metadata": {},
          "execution_count": 110
        }
      ],
      "execution_count": 110
    },
    {
      "cell_type": "code",
      "source": [
        "import random\n",
        "\n",
        "def get_error_examples(model, dataloader, data, label_mapping):\n",
        "    model.eval()\n",
        "    incorrect_examples = []\n",
        "    reverse_label_mapping = {v: k for k, v in label_mapping.items()}\n",
        "\n",
        "    with torch.no_grad():\n",
        "        for i, (inputs, labels) in enumerate(dataloader):\n",
        "            inputs, labels = inputs.to(device), labels.to(device)\n",
        "            outputs = model(inputs)\n",
        "            preds = torch.argmax(outputs, dim=1).cpu().numpy()\n",
        "            labels = labels.cpu().numpy()\n",
        "\n",
        "            # Collect incorrect examples\n",
        "            for idx, (pred, label) in enumerate(zip(preds, labels)):\n",
        "                if pred != label:  # Only collect incorrect ones\n",
        "                    incorrect_examples.append({\n",
        "                        \"text\": data.iloc[i * dataloader.batch_size + idx][\"News\"],\n",
        "                        \"true_label\": label,\n",
        "                        \"predicted_label\": pred\n",
        "                    })\n",
        "\n",
        "    # Randomly sample 5 incorrect examples (or fewer if less than 5 total)\n",
        "    if len(incorrect_examples) >= 5:\n",
        "        sampled_errors = random.sample(incorrect_examples, 5)\n",
        "    else:\n",
        "        sampled_errors = incorrect_examples\n",
        "\n",
        "    # Display the examples\n",
        "    for error in sampled_errors:\n",
        "        print(f\"Text: {error['text']}\")\n",
        "        print(f\"True Label: {error['true_label']} ({reverse_label_mapping[error['true_label']]})\")\n",
        "        print(f\"Predicted Label: {error['predicted_label']} ({reverse_label_mapping[error['predicted_label']]})\")\n",
        "        print(\"-\" * 50)\n",
        "\n",
        "# Example call on the validation set:\n",
        "get_error_examples(model, val_loader, val_df, label_mapping)\n"
      ],
      "metadata": {
        "colab": {
          "base_uri": "https://localhost:8080/"
        },
        "id": "F1xsjOcKVIlQ",
        "outputId": "30a77a42-5199-4773-c8a6-c4465c501894"
      },
      "execution_count": 111,
      "outputs": [
        {
          "output_type": "stream",
          "name": "stdout",
          "text": [
            "Text: ബഫല്ലോ മഞ്ഞുവീഴ്ചയെത്തുടർന്ന് കുടുങ്ങിയ ഒരു കാർ ഫോട്ടോ കാണിക്കുന്നു\n",
            "True Label: 0 (FALSE)\n",
            "Predicted Label: 3 (HALF TRUE)\n",
            "--------------------------------------------------\n",
            "Text: കെ.ടി ജലീല്‍ എംഎല്‍എയുടെ പ്രദേശിക വികസന ഫണ്ടില്‍ നിന്ന് നിര്‍മിച്ച ബസ് കാത്തിരിപ്പ് കേന്ദ്രം.\n",
            "True Label: 0 (FALSE)\n",
            "Predicted Label: 2 (MOSTLY FALSE)\n",
            "--------------------------------------------------\n",
            "Text: നദിയില്‍ ഇടിമിന്നല്‍ പതിക്കുന്ന ദൃശ്യം.\n",
            "True Label: 2 (MOSTLY FALSE)\n",
            "Predicted Label: 3 (HALF TRUE)\n",
            "--------------------------------------------------\n",
            "Text: ചന്ദ്രയാന് -3 ചന്ദ്രനില് ഇറങ്ങിയതിന് ശേഷം ടാറ്റ ഗ്രൂപ്പ് എല്ലാ ഇന്ത്യന് ഉപയോക്താക്കള് ക്കും 239 രൂപയുടെ 28 ദിവസത്തെ സൗജന്യ റീചാര് ജ് വാഗ്ദാനം ചെയ്യുന്നു\n",
            "True Label: 0 (FALSE)\n",
            "Predicted Label: 2 (MOSTLY FALSE)\n",
            "--------------------------------------------------\n",
            "Text: പ്രധാനമന്ത്രി നരേന്ദ്ര മോദിയുടെ ചിത്രം വെച്ച് തിരുവനന്തപുരം സര്‍ക്കാര്‍ എഞ്ചിനീയറിംഗ് കോളേജിലെ ടോപ്പര്‍മാരെ അഭിനന്ദനങ്ങള്‍ അര്‍പ്പിക്കുന്ന ബാനര്‍\n",
            "True Label: 0 (FALSE)\n",
            "Predicted Label: 4 (FALSE     )\n",
            "--------------------------------------------------\n"
          ]
        }
      ]
    },
    {
      "cell_type": "code",
      "source": [],
      "metadata": {
        "id": "S1STrZocV_DN"
      },
      "execution_count": 111,
      "outputs": []
    }
  ]
}